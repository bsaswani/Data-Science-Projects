{
 "cells": [
  {
   "cell_type": "markdown",
   "id": "c5e5680c-4e7f-4d13-b65c-aface7f30cee",
   "metadata": {},
   "source": [
    "# Spam Classification of Emails"
   ]
  },
  {
   "cell_type": "code",
   "execution_count": 4,
   "id": "2d0d7ede-da99-4311-96a5-43a87cece9b9",
   "metadata": {},
   "outputs": [],
   "source": [
    "import pandas as pd\n",
    "import numpy as np\n",
    "import matplotlib.pyplot as plt\n",
    "import seaborn as sns\n",
    "import warnings\n",
    "warnings.filterwarnings('ignore')"
   ]
  },
  {
   "cell_type": "code",
   "execution_count": 8,
   "id": "ef3c1f88-e9ce-4ba3-97df-87997f9e6577",
   "metadata": {},
   "outputs": [
    {
     "data": {
      "text/html": [
       "<div>\n",
       "<style scoped>\n",
       "    .dataframe tbody tr th:only-of-type {\n",
       "        vertical-align: middle;\n",
       "    }\n",
       "\n",
       "    .dataframe tbody tr th {\n",
       "        vertical-align: top;\n",
       "    }\n",
       "\n",
       "    .dataframe thead th {\n",
       "        text-align: right;\n",
       "    }\n",
       "</style>\n",
       "<table border=\"1\" class=\"dataframe\">\n",
       "  <thead>\n",
       "    <tr style=\"text-align: right;\">\n",
       "      <th></th>\n",
       "      <th>text</th>\n",
       "      <th>spam</th>\n",
       "    </tr>\n",
       "  </thead>\n",
       "  <tbody>\n",
       "    <tr>\n",
       "      <th>0</th>\n",
       "      <td>Subject: naturally irresistible your corporate...</td>\n",
       "      <td>1</td>\n",
       "    </tr>\n",
       "    <tr>\n",
       "      <th>1</th>\n",
       "      <td>Subject: the stock trading gunslinger  fanny i...</td>\n",
       "      <td>1</td>\n",
       "    </tr>\n",
       "    <tr>\n",
       "      <th>2</th>\n",
       "      <td>Subject: unbelievable new homes made easy  im ...</td>\n",
       "      <td>1</td>\n",
       "    </tr>\n",
       "    <tr>\n",
       "      <th>3</th>\n",
       "      <td>Subject: 4 color printing special  request add...</td>\n",
       "      <td>1</td>\n",
       "    </tr>\n",
       "    <tr>\n",
       "      <th>4</th>\n",
       "      <td>Subject: do not have money , get software cds ...</td>\n",
       "      <td>1</td>\n",
       "    </tr>\n",
       "    <tr>\n",
       "      <th>5</th>\n",
       "      <td>Subject: great nnews  hello , welcome to medzo...</td>\n",
       "      <td>1</td>\n",
       "    </tr>\n",
       "    <tr>\n",
       "      <th>6</th>\n",
       "      <td>Subject: here ' s a hot play in motion  homela...</td>\n",
       "      <td>1</td>\n",
       "    </tr>\n",
       "    <tr>\n",
       "      <th>7</th>\n",
       "      <td>Subject: save your money buy getting this thin...</td>\n",
       "      <td>1</td>\n",
       "    </tr>\n",
       "    <tr>\n",
       "      <th>8</th>\n",
       "      <td>Subject: undeliverable : home based business f...</td>\n",
       "      <td>1</td>\n",
       "    </tr>\n",
       "    <tr>\n",
       "      <th>9</th>\n",
       "      <td>Subject: save your money buy getting this thin...</td>\n",
       "      <td>1</td>\n",
       "    </tr>\n",
       "  </tbody>\n",
       "</table>\n",
       "</div>"
      ],
      "text/plain": [
       "                                                text  spam\n",
       "0  Subject: naturally irresistible your corporate...     1\n",
       "1  Subject: the stock trading gunslinger  fanny i...     1\n",
       "2  Subject: unbelievable new homes made easy  im ...     1\n",
       "3  Subject: 4 color printing special  request add...     1\n",
       "4  Subject: do not have money , get software cds ...     1\n",
       "5  Subject: great nnews  hello , welcome to medzo...     1\n",
       "6  Subject: here ' s a hot play in motion  homela...     1\n",
       "7  Subject: save your money buy getting this thin...     1\n",
       "8  Subject: undeliverable : home based business f...     1\n",
       "9  Subject: save your money buy getting this thin...     1"
      ]
     },
     "execution_count": 8,
     "metadata": {},
     "output_type": "execute_result"
    }
   ],
   "source": [
    "df = pd.read_csv('emails.csv')\n",
    "df.head(10)"
   ]
  },
  {
   "cell_type": "code",
   "execution_count": 10,
   "id": "1606c9b0-2fba-42b3-8b44-19ab70956689",
   "metadata": {},
   "outputs": [
    {
     "data": {
      "text/plain": [
       "Index(['text', 'spam'], dtype='object')"
      ]
     },
     "execution_count": 10,
     "metadata": {},
     "output_type": "execute_result"
    }
   ],
   "source": [
    "df.columns"
   ]
  },
  {
   "cell_type": "code",
   "execution_count": 12,
   "id": "fb6f645e-803b-46d1-9632-f255697a1044",
   "metadata": {},
   "outputs": [
    {
     "name": "stdout",
     "output_type": "stream",
     "text": [
      "<class 'pandas.core.frame.DataFrame'>\n",
      "RangeIndex: 5728 entries, 0 to 5727\n",
      "Data columns (total 2 columns):\n",
      " #   Column  Non-Null Count  Dtype \n",
      "---  ------  --------------  ----- \n",
      " 0   text    5728 non-null   object\n",
      " 1   spam    5728 non-null   int64 \n",
      "dtypes: int64(1), object(1)\n",
      "memory usage: 89.6+ KB\n"
     ]
    }
   ],
   "source": [
    "df.info()"
   ]
  },
  {
   "cell_type": "code",
   "execution_count": 14,
   "id": "781c75fe-870b-4f51-ac31-cb7adc66dfbe",
   "metadata": {},
   "outputs": [
    {
     "data": {
      "text/plain": [
       "<Axes: xlabel='spam', ylabel='count'>"
      ]
     },
     "execution_count": 14,
     "metadata": {},
     "output_type": "execute_result"
    },
    {
     "data": {
      "image/png": "[encoded data removed]",
      "text/plain": [
       "<Figure size 640x480 with 1 Axes>"
      ]
     },
     "metadata": {},
     "output_type": "display_data"
    }
   ],
   "source": [
    "sns.countplot(x='spam',data=df)"
   ]
  },
  {
   "cell_type": "code",
   "execution_count": 16,
   "id": "0f9c1e6a-24b1-4a7a-a100-225d88b512c0",
   "metadata": {},
   "outputs": [],
   "source": [
    "import re\n",
    "import string\n",
    "import nltk\n",
    "from nltk.corpus import stopwords\n",
    "from nltk.stem import PorterStemmer\n",
    "from sklearn.model_selection import train_test_split\n",
    "from sklearn.feature_extraction.text import TfidfVectorizer\n",
    "from sklearn.linear_model import LogisticRegression\n",
    "from sklearn.naive_bayes import MultinomialNB\n",
    "from sklearn.svm import SVC\n",
    "from sklearn.metrics import accuracy_score, classification_report"
   ]
  },
  {
   "cell_type": "code",
   "execution_count": 18,
   "id": "654cefc9-42db-4528-aaa7-0cac893976f0",
   "metadata": {},
   "outputs": [
    {
     "name": "stderr",
     "output_type": "stream",
     "text": [
      "[nltk_data] Downloading package stopwords to C:\\Users\\sooraj\n",
      "[nltk_data]     sb\\AppData\\Roaming\\nltk_data...\n",
      "[nltk_data]   Package stopwords is already up-to-date!\n"
     ]
    },
    {
     "data": {
      "text/plain": [
       "True"
      ]
     },
     "execution_count": 18,
     "metadata": {},
     "output_type": "execute_result"
    }
   ],
   "source": [
    "nltk.download('stopwords')"
   ]
  },
  {
   "cell_type": "code",
   "execution_count": 24,
   "id": "8ea0026f-f577-4c83-92df-53f62d273d6e",
   "metadata": {},
   "outputs": [],
   "source": [
    "stop_words = set(stopwords.words('english'))"
   ]
  },
  {
   "cell_type": "code",
   "execution_count": 26,
   "id": "d3e16e0d-46a1-459f-be46-faa24c35e142",
   "metadata": {},
   "outputs": [],
   "source": [
    "stemmer = PorterStemmer()"
   ]
  },
  {
   "cell_type": "code",
   "execution_count": 28,
   "id": "18cae67a-bb36-4c3e-8b91-aef1910f13e4",
   "metadata": {},
   "outputs": [],
   "source": [
    "def clean_text(text):\n",
    "    text = text.lower()  \n",
    "    text = re.sub(r'^subject:\\s*', '', text)  # Removing \"Subject: \" at the beginning\n",
    "    text = re.sub(r'\\d+', '', text)  \n",
    "    text = text.translate(str.maketrans('', '', string.punctuation))  \n",
    "    text = ' '.join([stemmer.stem(word) for word in text.split() if word not in stop_words])  \n",
    "    return text"
   ]
  },
  {
   "cell_type": "code",
   "execution_count": 30,
   "id": "a47702cb-21ca-4a61-8ebe-f5b568f6928b",
   "metadata": {},
   "outputs": [
    {
     "data": {
      "text/html": [
       "<div>\n",
       "<style scoped>\n",
       "    .dataframe tbody tr th:only-of-type {\n",
       "        vertical-align: middle;\n",
       "    }\n",
       "\n",
       "    .dataframe tbody tr th {\n",
       "        vertical-align: top;\n",
       "    }\n",
       "\n",
       "    .dataframe thead th {\n",
       "        text-align: right;\n",
       "    }\n",
       "</style>\n",
       "<table border=\"1\" class=\"dataframe\">\n",
       "  <thead>\n",
       "    <tr style=\"text-align: right;\">\n",
       "      <th></th>\n",
       "      <th>text</th>\n",
       "      <th>spam</th>\n",
       "    </tr>\n",
       "  </thead>\n",
       "  <tbody>\n",
       "    <tr>\n",
       "      <th>0</th>\n",
       "      <td>natur irresist corpor ident lt realli hard rec...</td>\n",
       "      <td>1</td>\n",
       "    </tr>\n",
       "    <tr>\n",
       "      <th>1</th>\n",
       "      <td>stock trade gunsling fanni merril muzo colza a...</td>\n",
       "      <td>1</td>\n",
       "    </tr>\n",
       "    <tr>\n",
       "      <th>2</th>\n",
       "      <td>unbeliev new home made easi im want show homeo...</td>\n",
       "      <td>1</td>\n",
       "    </tr>\n",
       "    <tr>\n",
       "      <th>3</th>\n",
       "      <td>color print special request addit inform click...</td>\n",
       "      <td>1</td>\n",
       "    </tr>\n",
       "    <tr>\n",
       "      <th>4</th>\n",
       "      <td>money get softwar cd softwar compat great grow...</td>\n",
       "      <td>1</td>\n",
       "    </tr>\n",
       "  </tbody>\n",
       "</table>\n",
       "</div>"
      ],
      "text/plain": [
       "                                                text  spam\n",
       "0  natur irresist corpor ident lt realli hard rec...     1\n",
       "1  stock trade gunsling fanni merril muzo colza a...     1\n",
       "2  unbeliev new home made easi im want show homeo...     1\n",
       "3  color print special request addit inform click...     1\n",
       "4  money get softwar cd softwar compat great grow...     1"
      ]
     },
     "execution_count": 30,
     "metadata": {},
     "output_type": "execute_result"
    }
   ],
   "source": [
    "df['text'] = df['text'].apply(clean_text)\n",
    "df.head()"
   ]
  },
  {
   "cell_type": "code",
   "execution_count": 32,
   "id": "428f9b51-605d-4922-808a-17ab3fe78697",
   "metadata": {},
   "outputs": [],
   "source": [
    "x = df['text']\n",
    "y = df['spam']"
   ]
  },
  {
   "cell_type": "code",
   "execution_count": 34,
   "id": "22d8330c-fcc1-4262-b73e-0e51fe205841",
   "metadata": {},
   "outputs": [
    {
     "name": "stdout",
     "output_type": "stream",
     "text": [
      "Defaulting to user installation because normal site-packages is not writeable\n",
      "Requirement already satisfied: imbalanced-learn in c:\\users\\sooraj sb\\appdata\\roaming\\python\\python312\\site-packages (0.12.3)\n",
      "Requirement already satisfied: numpy>=1.17.3 in c:\\users\\sooraj sb\\appdata\\roaming\\python\\python312\\site-packages (from imbalanced-learn) (1.26.4)\n",
      "Requirement already satisfied: scipy>=1.5.0 in c:\\users\\sooraj sb\\appdata\\roaming\\python\\python312\\site-packages (from imbalanced-learn) (1.12.0)\n",
      "Requirement already satisfied: scikit-learn>=1.0.2 in c:\\users\\sooraj sb\\appdata\\roaming\\python\\python312\\site-packages (from imbalanced-learn) (1.4.1.post1)\n",
      "Requirement already satisfied: joblib>=1.1.1 in c:\\users\\sooraj sb\\appdata\\roaming\\python\\python312\\site-packages (from imbalanced-learn) (1.3.2)\n",
      "Requirement already satisfied: threadpoolctl>=2.0.0 in c:\\users\\sooraj sb\\appdata\\roaming\\python\\python312\\site-packages (from imbalanced-learn) (3.3.0)\n"
     ]
    },
    {
     "name": "stderr",
     "output_type": "stream",
     "text": [
      "\n",
      "[notice] A new release of pip is available: 24.2 -> 25.0.1\n",
      "[notice] To update, run: python.exe -m pip install --upgrade pip\n"
     ]
    }
   ],
   "source": [
    "#!pip install imbalanced-learn"
   ]
  },
  {
   "cell_type": "code",
   "execution_count": 36,
   "id": "f173edb5-8d82-4ffb-96ad-3974325335c6",
   "metadata": {},
   "outputs": [],
   "source": [
    "x_train, x_test, y_train, y_test = train_test_split(x,y, test_size=0.2, random_state=42)"
   ]
  },
  {
   "cell_type": "code",
   "execution_count": 38,
   "id": "ced0fc64-d122-4cc9-9cc9-131d6796ce5c",
   "metadata": {},
   "outputs": [],
   "source": [
    "vectorizer = TfidfVectorizer(max_features=4000) \n",
    "x_train_tfidf = vectorizer.fit_transform(x_train)\n",
    "x_test_tfidf = vectorizer.transform(x_test)"
   ]
  },
  {
   "cell_type": "code",
   "execution_count": 40,
   "id": "d00f77ba-6ea9-4061-ad11-381feaa3be2b",
   "metadata": {},
   "outputs": [],
   "source": [
    "from imblearn.over_sampling import SMOTE\n",
    "smote = SMOTE(random_state=42, k_neighbors=1, sampling_strategy='auto')\n",
    "x_train_balanced, y_train_balanced = smote.fit_resample(x_train_tfidf, y_train)"
   ]
  },
  {
   "cell_type": "code",
   "execution_count": 42,
   "id": "e899f7a1-655c-4cdb-b3cd-308416c2727f",
   "metadata": {},
   "outputs": [
    {
     "data": {
      "text/plain": [
       "spam\n",
       "0    3504\n",
       "1    3504\n",
       "Name: count, dtype: int64"
      ]
     },
     "execution_count": 42,
     "metadata": {},
     "output_type": "execute_result"
    }
   ],
   "source": [
    "y_train_balanced.value_counts()"
   ]
  },
  {
   "cell_type": "code",
   "execution_count": 44,
   "id": "66b2a855-8999-44f7-b8df-eb427f08a6d1",
   "metadata": {},
   "outputs": [
    {
     "name": "stdout",
     "output_type": "stream",
     "text": [
      "Logistic Regression Accuracy: 0.9860383944153578\n",
      "Logistic Regression Report:\n",
      "               precision    recall  f1-score   support\n",
      "\n",
      "           0       1.00      0.98      0.99       856\n",
      "           1       0.95      0.99      0.97       290\n",
      "\n",
      "    accuracy                           0.99      1146\n",
      "   macro avg       0.98      0.99      0.98      1146\n",
      "weighted avg       0.99      0.99      0.99      1146\n",
      "\n"
     ]
    }
   ],
   "source": [
    "# Logistic Regression model\n",
    "lr_model = LogisticRegression()\n",
    "lr_model.fit(x_train_balanced, y_train_balanced)\n",
    "y_pred_lr = lr_model.predict(x_test_tfidf)\n",
    "print(\"Logistic Regression Accuracy:\", accuracy_score(y_test, y_pred_lr))\n",
    "print(\"Logistic Regression Report:\\n\", classification_report(y_test, y_pred_lr))"
   ]
  },
  {
   "cell_type": "code",
   "execution_count": 48,
   "id": "af3662dd-597e-4658-adfd-ec0844430903",
   "metadata": {},
   "outputs": [
    {
     "name": "stdout",
     "output_type": "stream",
     "text": [
      "SVM Accuracy: 0.9869109947643979\n",
      "SVM Report:\n",
      "               precision    recall  f1-score   support\n",
      "\n",
      "           0       0.99      1.00      0.99       856\n",
      "           1       0.99      0.96      0.97       290\n",
      "\n",
      "    accuracy                           0.99      1146\n",
      "   macro avg       0.99      0.98      0.98      1146\n",
      "weighted avg       0.99      0.99      0.99      1146\n",
      "\n"
     ]
    }
   ],
   "source": [
    "# Support Vector Machine model\n",
    "svm_model = SVC()\n",
    "svm_model.fit(x_train_balanced, y_train_balanced)\n",
    "y_pred_svm = svm_model.predict(x_test_tfidf)\n",
    "print(\"SVM Accuracy:\", accuracy_score(y_test, y_pred_svm))\n",
    "print(\"SVM Report:\\n\", classification_report(y_test, y_pred_svm))"
   ]
  },
  {
   "cell_type": "code",
   "execution_count": 54,
   "id": "05a05840-2a25-451c-b8b3-8fd908aacfba",
   "metadata": {},
   "outputs": [],
   "source": [
    "import pickle\n",
    "with open(\"svm_model.pkl\", \"wb\") as model_file:\n",
    "    pickle.dump(svm_model, model_file)"
   ]
  },
  {
   "cell_type": "code",
   "execution_count": 56,
   "id": "ea75e1a6-5a77-46bf-bf70-15a3ce00466d",
   "metadata": {},
   "outputs": [],
   "source": [
    "with open(\"tfidf_vectorizer.pkl\", \"wb\") as vectorizer_file:\n",
    "    pickle.dump(vectorizer, vectorizer_file)"
   ]
  },
  {
   "cell_type": "code",
   "execution_count": 76,
   "id": "5b984a6d-03d0-49d6-ae01-b2c670261c58",
   "metadata": {},
   "outputs": [],
   "source": [
    "# Function to predict Spam or Not Spam\n",
    "def predict_email(text):\n",
    "    with open(\"svm_model.pkl\", \"rb\") as model_file:\n",
    "        model = pickle.load(model_file)\n",
    "    with open(\"tfidf_vectorizer.pkl\", \"rb\") as vectorizer_file:\n",
    "        vectorizer = pickle.load(vectorizer_file)\n",
    "    \n",
    "    cleaned_text = clean_text(text)\n",
    "    text_tfidf = vectorizer.transform([cleaned_text])\n",
    "    prediction = model.predict(text_tfidf)[0]\n",
    "    return \"Spam\" if prediction == 1 else \"Not Spam\""
   ]
  },
  {
   "cell_type": "code",
   "execution_count": 78,
   "id": "d30ed550-314c-4657-8eb0-0981a9eef95b",
   "metadata": {},
   "outputs": [
    {
     "data": {
      "text/html": [
       "<div>\n",
       "<style scoped>\n",
       "    .dataframe tbody tr th:only-of-type {\n",
       "        vertical-align: middle;\n",
       "    }\n",
       "\n",
       "    .dataframe tbody tr th {\n",
       "        vertical-align: top;\n",
       "    }\n",
       "\n",
       "    .dataframe thead th {\n",
       "        text-align: right;\n",
       "    }\n",
       "</style>\n",
       "<table border=\"1\" class=\"dataframe\">\n",
       "  <thead>\n",
       "    <tr style=\"text-align: right;\">\n",
       "      <th></th>\n",
       "      <th>text</th>\n",
       "      <th>spam</th>\n",
       "    </tr>\n",
       "  </thead>\n",
       "  <tbody>\n",
       "    <tr>\n",
       "      <th>1</th>\n",
       "      <td>stock trade gunsling fanni merril muzo colza a...</td>\n",
       "      <td>1</td>\n",
       "    </tr>\n",
       "    <tr>\n",
       "      <th>2</th>\n",
       "      <td>unbeliev new home made easi im want show homeo...</td>\n",
       "      <td>1</td>\n",
       "    </tr>\n",
       "    <tr>\n",
       "      <th>3</th>\n",
       "      <td>color print special request addit inform click...</td>\n",
       "      <td>1</td>\n",
       "    </tr>\n",
       "    <tr>\n",
       "      <th>4</th>\n",
       "      <td>money get softwar cd softwar compat great grow...</td>\n",
       "      <td>1</td>\n",
       "    </tr>\n",
       "  </tbody>\n",
       "</table>\n",
       "</div>"
      ],
      "text/plain": [
       "                                                text  spam\n",
       "1  stock trade gunsling fanni merril muzo colza a...     1\n",
       "2  unbeliev new home made easi im want show homeo...     1\n",
       "3  color print special request addit inform click...     1\n",
       "4  money get softwar cd softwar compat great grow...     1"
      ]
     },
     "execution_count": 78,
     "metadata": {},
     "output_type": "execute_result"
    }
   ],
   "source": [
    "d=df.iloc[1:5,:]\n",
    "d"
   ]
  },
  {
   "cell_type": "code",
   "execution_count": 80,
   "id": "c62ade52-dbf5-499e-bd7b-fd464ee47f6f",
   "metadata": {},
   "outputs": [
    {
     "data": {
      "text/plain": [
       "['stock trade gunsling fanni merril muzo colza attaind penultim like esmark perspicu rambl segovia group tri slung kansa tanzania ye chameleon continu clothesman libretto chesapeak tight waterway herald hawthorn like chisel morristown superior deoxyribonucl clockwork tri hall incred mcdougal ye hepburn einsteinian earmark sapl boar duan plain palfrey inflex like huzzah pepperoni bedtim nameabl attir tri edt chronographi optima ye pirogu diffus albeit',\n",
       " 'unbeliev new home made easi im want show homeown pre approv home loan fix rate offer extend uncondit credit way factor take advantag limit time opportun ask visit websit complet minut post approv form look foward hear dorca pittman',\n",
       " 'color print special request addit inform click click printabl version order form pdf format phone fax e mail ramsey goldengraphix com request addit inform click click printabl version order form pdf format golden graphix print azusa canyon rd irwindal ca e mail messag advertis solicit',\n",
       " 'money get softwar cd softwar compat great grow old along best yet tradgedi finish death comedi end marriag']"
      ]
     },
     "execution_count": 80,
     "metadata": {},
     "output_type": "execute_result"
    }
   ],
   "source": [
    "list(d['text'])"
   ]
  },
  {
   "cell_type": "code",
   "execution_count": 82,
   "id": "5659c1d2-6a43-4479-9a54-5d5296babd95",
   "metadata": {},
   "outputs": [
    {
     "data": {
      "text/html": [
       "<div>\n",
       "<style scoped>\n",
       "    .dataframe tbody tr th:only-of-type {\n",
       "        vertical-align: middle;\n",
       "    }\n",
       "\n",
       "    .dataframe tbody tr th {\n",
       "        vertical-align: top;\n",
       "    }\n",
       "\n",
       "    .dataframe thead th {\n",
       "        text-align: right;\n",
       "    }\n",
       "</style>\n",
       "<table border=\"1\" class=\"dataframe\">\n",
       "  <thead>\n",
       "    <tr style=\"text-align: right;\">\n",
       "      <th></th>\n",
       "      <th>text</th>\n",
       "      <th>spam</th>\n",
       "    </tr>\n",
       "  </thead>\n",
       "  <tbody>\n",
       "    <tr>\n",
       "      <th>5723</th>\n",
       "      <td>research develop charg gpg forward shirley cre...</td>\n",
       "      <td>0</td>\n",
       "    </tr>\n",
       "    <tr>\n",
       "      <th>5724</th>\n",
       "      <td>receipt visit jim thank invit visit lsu shirle...</td>\n",
       "      <td>0</td>\n",
       "    </tr>\n",
       "    <tr>\n",
       "      <th>5725</th>\n",
       "      <td>enron case studi updat wow day super thank muc...</td>\n",
       "      <td>0</td>\n",
       "    </tr>\n",
       "    <tr>\n",
       "      <th>5726</th>\n",
       "      <td>interest david pleas call shirley crenshaw ass...</td>\n",
       "      <td>0</td>\n",
       "    </tr>\n",
       "    <tr>\n",
       "      <th>5727</th>\n",
       "      <td>news aurora updat aurora version fastest model...</td>\n",
       "      <td>0</td>\n",
       "    </tr>\n",
       "  </tbody>\n",
       "</table>\n",
       "</div>"
      ],
      "text/plain": [
       "                                                   text  spam\n",
       "5723  research develop charg gpg forward shirley cre...     0\n",
       "5724  receipt visit jim thank invit visit lsu shirle...     0\n",
       "5725  enron case studi updat wow day super thank muc...     0\n",
       "5726  interest david pleas call shirley crenshaw ass...     0\n",
       "5727  news aurora updat aurora version fastest model...     0"
      ]
     },
     "execution_count": 82,
     "metadata": {},
     "output_type": "execute_result"
    }
   ],
   "source": [
    "d1=df.iloc[5723:,:]\n",
    "d1"
   ]
  },
  {
   "cell_type": "code",
   "execution_count": 84,
   "id": "9c39737f-31e0-4aec-9134-a7ff32ecf60b",
   "metadata": {},
   "outputs": [
    {
     "data": {
      "text/plain": [
       "['research develop charg gpg forward shirley crenshaw hou ect vinc j kaminski pm vera apodaca et enron enron cc vinc j kaminski hou ect ect shirley crenshaw hou ect ect pinnamaneni krishnarao hou ect ect subject research develop charg gpg vera shall talk account group correct vinc pm vera apodaca enron vera apodaca enron vera apodaca enron pm pm pinnamaneni krishnarao hou ect ect cc vinc j kaminski hou ect ect subject research develop charg gpg per mail date june kim watson suppos occur true juli fist six month review juli actual abl locat entri would pl let know whether entri made intend process thank',\n",
       " 'receipt visit jim thank invit visit lsu shirley fedex receipt tomorrow vinc jame r garven pm vinc j kaminski cc subject receipt visit dear vinc thank take time visit faculti student got lot present favor ask concern expens reimburs process mail travel lodg receipt secretari joan payn follow address joan payn depart financ ceba louisiana state univers baton roug la thank jim garven jame r garven william h wright jr endow chair financi servic depart financ ceba e j ourso colleg busi administr louisiana state univers baton roug la voic fax e mail jgarven lsu edu home page http garven lsu edu vita http garven lsu edu dossier html research paper archiv http garven lsu edu research html',\n",
       " 'enron case studi updat wow day super thank much vinc come baylor monday next week hash question list thank john pm wrote good afternoon john want drop line updat andi fastow confirm one hour interview slot mr fastow monday decemb th noon addit schedul interview mr lay mr skill outlin question pleas hesit contact regard cindi forward cindi derecskey corp enron pm cindi derecskey john martin cc vinc j kaminski hou ect ect christi patrick hou ect ect subject enron case studi document link cindi derecskey pm good afternoon john hope thing well write updat statu meet andi fastow ken lay jeff skill arrang follow meet date time ken lay jeff skill still tri work andi fastow schedul jeff skill decemb th p ken lay decemb th p also attempt schedul meet andi fastow decemb th conveni also allow us possibl schedul addit meet th need let know soon success regard cindi derecskey univers affair enron corp john martin carr p collin chair financ financ depart baylor univers po box waco tx offic fax j martin baylor edu web http hsb baylor edu html martinj home html',\n",
       " 'interest david pleas call shirley crenshaw assist extens set vinc david p dupr pm vinc j kaminski hou ect ect cc subject interest time avail next day thank david vinc j kaminski pm david p dupr hou ect ect cc vinc j kaminski hou ect ect subject interest david pleas stop chat minut vinc david p dupr vinc j kaminski hou ect ect cc subject interest may meet discuss interest join group strong quantit disciplin highli numer thank david forward david p dupr hou ect david p dupr hou ect ect cc subject interest vinc kaminski',\n",
       " 'news aurora updat aurora version fastest model got faster epi announc releas aurora version aurora electr market price forecast tool alreadi legendari power speed combin power chronolog dispatch model capabl simul market day year add risk analysi section power user select mont carlo latin hypercub model enough portfolio analysi power pleas toughest critic input output standard excel access tabl got one power tool market month ago expand emiss model capabl ad quarterli databas updat increas speed entir model made enough done oper includ two new report enhanc first margin report fuel resourc group resourc second abil display resourc stack inform graphic dispatch order form enhanc includ dual fuel model improv transmiss model greater access hourli result abil model monthli emiss rate moreov databas central eastern texa western market updat use new model capabl continu make aurora easier use version enhanc user control model edit input view aurora output client desir exploit power aurora greater control input output vb script aurora new updat data capabl provid mean univers chang data element attach inform fastest flexibl tool kind addit inform pleas visit websit www epi com contact sale depart ask special day demo v todd wheeler sale manag epi inc tel fax www epi com todd epi com new version inform doc technic inform aurora v doc']"
      ]
     },
     "execution_count": 84,
     "metadata": {},
     "output_type": "execute_result"
    }
   ],
   "source": [
    "list(d1['text'])"
   ]
  },
  {
   "cell_type": "code",
   "execution_count": 88,
   "id": "cebea971-cf91-4498-9fa8-886f3730aa1d",
   "metadata": {},
   "outputs": [
    {
     "name": "stdout",
     "output_type": "stream",
     "text": [
      "Prediction: Spam\n"
     ]
    }
   ],
   "source": [
    "# Example usage 1\n",
    "email = \"stock trade gunsling fanni merril muzo colza attaind penultim like esmark perspicu rambl segovia group tri slung kansa tanzania ye chameleon continu clothesman libretto chesapeak tight waterway herald hawthorn like chisel morristown superior deoxyribonucl clockwork tri hall incred mcdougal ye hepburn einsteinian earmark sapl boar duan plain palfrey inflex like huzzah pepperoni bedtim nameabl attir tri edt chronographi optima ye pirogu diffus albeit\"\n",
    "print(\"Prediction:\", predict_email(email))"
   ]
  },
  {
   "cell_type": "code",
   "execution_count": 90,
   "id": "296b9c8f-ee69-4ed5-a6d5-1e74b8437a8b",
   "metadata": {},
   "outputs": [
    {
     "name": "stdout",
     "output_type": "stream",
     "text": [
      "Prediction: Not Spam\n"
     ]
    }
   ],
   "source": [
    "# Example usage 2\n",
    "email = \"research develop charg gpg forward shirley crenshaw hou ect vinc j kaminski pm vera apodaca et enron enron cc vinc j kaminski hou ect ect shirley crenshaw hou ect ect pinnamaneni krishnarao hou ect ect subject research develop charg gpg vera shall talk account group correct vinc pm vera apodaca enron vera apodaca enron vera apodaca enron pm pm pinnamaneni krishnarao hou ect ect cc vinc j kaminski hou ect ect subject research develop charg gpg per mail date june kim watson suppos occur true juli fist six month review juli actual abl locat entri would pl let know whether entri made intend process thank\"\n",
    "print(\"Prediction:\", predict_email(email))"
   ]
  }
 ],
 "metadata": {
  "kernelspec": {
   "display_name": "Python 3 (ipykernel)",
   "language": "python",
   "name": "python3"
  },
  "language_info": {
   "codemirror_mode": {
    "name": "ipython",
    "version": 3
   },
   "file_extension": ".py",
   "mimetype": "text/x-python",
   "name": "python",
   "nbconvert_exporter": "python",
   "pygments_lexer": "ipython3",
   "version": "3.12.4"
  }
 },
 "nbformat": 4,
 "nbformat_minor": 5
}
