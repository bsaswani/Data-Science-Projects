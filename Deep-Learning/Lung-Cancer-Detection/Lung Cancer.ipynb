{
 "cells": [
  {
   "cell_type": "markdown",
   "id": "8e5812b9-fe23-4671-86e3-fd9cf91505dd",
   "metadata": {},
   "source": [
    "# Lung Cancer CT Scan"
   ]
  },
  {
   "cell_type": "code",
   "execution_count": 3,
   "id": "91e317bc",
   "metadata": {},
   "outputs": [],
   "source": [
    "from sklearn.preprocessing import LabelEncoder\n",
    "from sklearn.model_selection import train_test_split\n",
    "from sklearn.metrics import confusion_matrix\n",
    "import warnings\n",
    "warnings.filterwarnings('ignore')"
   ]
  },
  {
   "cell_type": "code",
   "execution_count": 4,
   "id": "60c25fc8",
   "metadata": {},
   "outputs": [],
   "source": [
    "import numpy as np\n",
    "import seaborn as sns\n",
    "from tensorflow.keras.models import Sequential\n",
    "from tensorflow.keras.layers import Conv2D,MaxPool2D,Dense,Flatten\n",
    "import os\n",
    "import cv2"
   ]
  },
  {
   "cell_type": "code",
   "execution_count": 5,
   "id": "50d05f17",
   "metadata": {},
   "outputs": [
    {
     "name": "stdout",
     "output_type": "stream",
     "text": [
      "(613, 110, 110, 3)\n",
      "(613,)\n"
     ]
    }
   ],
   "source": [
    "x,y=[],[]\n",
    "path=r\"D:\\Singularis DL\\dl\\Lungs Data\\train\"\n",
    "for i in os.listdir(path):\n",
    "    for j in os.listdir(os.path.join(path,i)):\n",
    "        image_path=os.path.join(path,i,j)\n",
    "        array=cv2.imread(image_path)\n",
    "        array_resize=cv2.resize(array,(110,110))\n",
    "        array_reshape=array_resize.reshape(110,110,3)\n",
    "        array_norm=array_reshape/255\n",
    "        x.append(array_norm)\n",
    "        y.append(i)\n",
    "x=np.array(x)\n",
    "y=np.array(y)\n",
    "print(x.shape)\n",
    "print(y.shape)"
   ]
  },
  {
   "cell_type": "code",
   "execution_count": 6,
   "id": "1f4bf260",
   "metadata": {},
   "outputs": [
    {
     "data": {
      "text/plain": [
       "array(['adenocarcinoma_left.lower.lobe_T2_N0_M0_Ib',\n",
       "       'adenocarcinoma_left.lower.lobe_T2_N0_M0_Ib',\n",
       "       'adenocarcinoma_left.lower.lobe_T2_N0_M0_Ib',\n",
       "       'adenocarcinoma_left.lower.lobe_T2_N0_M0_Ib',\n",
       "       'adenocarcinoma_left.lower.lobe_T2_N0_M0_Ib',\n",
       "       'adenocarcinoma_left.lower.lobe_T2_N0_M0_Ib',\n",
       "       'adenocarcinoma_left.lower.lobe_T2_N0_M0_Ib',\n",
       "       'adenocarcinoma_left.lower.lobe_T2_N0_M0_Ib',\n",
       "       'adenocarcinoma_left.lower.lobe_T2_N0_M0_Ib',\n",
       "       'adenocarcinoma_left.lower.lobe_T2_N0_M0_Ib',\n",
       "       'adenocarcinoma_left.lower.lobe_T2_N0_M0_Ib',\n",
       "       'adenocarcinoma_left.lower.lobe_T2_N0_M0_Ib',\n",
       "       'adenocarcinoma_left.lower.lobe_T2_N0_M0_Ib',\n",
       "       'adenocarcinoma_left.lower.lobe_T2_N0_M0_Ib',\n",
       "       'adenocarcinoma_left.lower.lobe_T2_N0_M0_Ib',\n",
       "       'adenocarcinoma_left.lower.lobe_T2_N0_M0_Ib',\n",
       "       'adenocarcinoma_left.lower.lobe_T2_N0_M0_Ib',\n",
       "       'adenocarcinoma_left.lower.lobe_T2_N0_M0_Ib',\n",
       "       'adenocarcinoma_left.lower.lobe_T2_N0_M0_Ib',\n",
       "       'adenocarcinoma_left.lower.lobe_T2_N0_M0_Ib',\n",
       "       'adenocarcinoma_left.lower.lobe_T2_N0_M0_Ib',\n",
       "       'adenocarcinoma_left.lower.lobe_T2_N0_M0_Ib',\n",
       "       'adenocarcinoma_left.lower.lobe_T2_N0_M0_Ib',\n",
       "       'adenocarcinoma_left.lower.lobe_T2_N0_M0_Ib',\n",
       "       'adenocarcinoma_left.lower.lobe_T2_N0_M0_Ib',\n",
       "       'adenocarcinoma_left.lower.lobe_T2_N0_M0_Ib',\n",
       "       'adenocarcinoma_left.lower.lobe_T2_N0_M0_Ib',\n",
       "       'adenocarcinoma_left.lower.lobe_T2_N0_M0_Ib',\n",
       "       'adenocarcinoma_left.lower.lobe_T2_N0_M0_Ib',\n",
       "       'adenocarcinoma_left.lower.lobe_T2_N0_M0_Ib',\n",
       "       'adenocarcinoma_left.lower.lobe_T2_N0_M0_Ib',\n",
       "       'adenocarcinoma_left.lower.lobe_T2_N0_M0_Ib',\n",
       "       'adenocarcinoma_left.lower.lobe_T2_N0_M0_Ib',\n",
       "       'adenocarcinoma_left.lower.lobe_T2_N0_M0_Ib',\n",
       "       'adenocarcinoma_left.lower.lobe_T2_N0_M0_Ib',\n",
       "       'adenocarcinoma_left.lower.lobe_T2_N0_M0_Ib',\n",
       "       'adenocarcinoma_left.lower.lobe_T2_N0_M0_Ib',\n",
       "       'adenocarcinoma_left.lower.lobe_T2_N0_M0_Ib',\n",
       "       'adenocarcinoma_left.lower.lobe_T2_N0_M0_Ib',\n",
       "       'adenocarcinoma_left.lower.lobe_T2_N0_M0_Ib',\n",
       "       'adenocarcinoma_left.lower.lobe_T2_N0_M0_Ib',\n",
       "       'adenocarcinoma_left.lower.lobe_T2_N0_M0_Ib',\n",
       "       'adenocarcinoma_left.lower.lobe_T2_N0_M0_Ib',\n",
       "       'adenocarcinoma_left.lower.lobe_T2_N0_M0_Ib',\n",
       "       'adenocarcinoma_left.lower.lobe_T2_N0_M0_Ib',\n",
       "       'adenocarcinoma_left.lower.lobe_T2_N0_M0_Ib',\n",
       "       'adenocarcinoma_left.lower.lobe_T2_N0_M0_Ib',\n",
       "       'adenocarcinoma_left.lower.lobe_T2_N0_M0_Ib',\n",
       "       'adenocarcinoma_left.lower.lobe_T2_N0_M0_Ib',\n",
       "       'adenocarcinoma_left.lower.lobe_T2_N0_M0_Ib',\n",
       "       'adenocarcinoma_left.lower.lobe_T2_N0_M0_Ib',\n",
       "       'adenocarcinoma_left.lower.lobe_T2_N0_M0_Ib',\n",
       "       'adenocarcinoma_left.lower.lobe_T2_N0_M0_Ib',\n",
       "       'adenocarcinoma_left.lower.lobe_T2_N0_M0_Ib',\n",
       "       'adenocarcinoma_left.lower.lobe_T2_N0_M0_Ib',\n",
       "       'adenocarcinoma_left.lower.lobe_T2_N0_M0_Ib',\n",
       "       'adenocarcinoma_left.lower.lobe_T2_N0_M0_Ib',\n",
       "       'adenocarcinoma_left.lower.lobe_T2_N0_M0_Ib',\n",
       "       'adenocarcinoma_left.lower.lobe_T2_N0_M0_Ib',\n",
       "       'adenocarcinoma_left.lower.lobe_T2_N0_M0_Ib',\n",
       "       'adenocarcinoma_left.lower.lobe_T2_N0_M0_Ib',\n",
       "       'adenocarcinoma_left.lower.lobe_T2_N0_M0_Ib',\n",
       "       'adenocarcinoma_left.lower.lobe_T2_N0_M0_Ib',\n",
       "       'adenocarcinoma_left.lower.lobe_T2_N0_M0_Ib',\n",
       "       'adenocarcinoma_left.lower.lobe_T2_N0_M0_Ib',\n",
       "       'adenocarcinoma_left.lower.lobe_T2_N0_M0_Ib',\n",
       "       'adenocarcinoma_left.lower.lobe_T2_N0_M0_Ib',\n",
       "       'adenocarcinoma_left.lower.lobe_T2_N0_M0_Ib',\n",
       "       'adenocarcinoma_left.lower.lobe_T2_N0_M0_Ib',\n",
       "       'adenocarcinoma_left.lower.lobe_T2_N0_M0_Ib',\n",
       "       'adenocarcinoma_left.lower.lobe_T2_N0_M0_Ib',\n",
       "       'adenocarcinoma_left.lower.lobe_T2_N0_M0_Ib',\n",
       "       'adenocarcinoma_left.lower.lobe_T2_N0_M0_Ib',\n",
       "       'adenocarcinoma_left.lower.lobe_T2_N0_M0_Ib',\n",
       "       'adenocarcinoma_left.lower.lobe_T2_N0_M0_Ib',\n",
       "       'adenocarcinoma_left.lower.lobe_T2_N0_M0_Ib',\n",
       "       'adenocarcinoma_left.lower.lobe_T2_N0_M0_Ib',\n",
       "       'adenocarcinoma_left.lower.lobe_T2_N0_M0_Ib',\n",
       "       'adenocarcinoma_left.lower.lobe_T2_N0_M0_Ib',\n",
       "       'adenocarcinoma_left.lower.lobe_T2_N0_M0_Ib',\n",
       "       'adenocarcinoma_left.lower.lobe_T2_N0_M0_Ib',\n",
       "       'adenocarcinoma_left.lower.lobe_T2_N0_M0_Ib',\n",
       "       'adenocarcinoma_left.lower.lobe_T2_N0_M0_Ib',\n",
       "       'adenocarcinoma_left.lower.lobe_T2_N0_M0_Ib',\n",
       "       'adenocarcinoma_left.lower.lobe_T2_N0_M0_Ib',\n",
       "       'adenocarcinoma_left.lower.lobe_T2_N0_M0_Ib',\n",
       "       'adenocarcinoma_left.lower.lobe_T2_N0_M0_Ib',\n",
       "       'adenocarcinoma_left.lower.lobe_T2_N0_M0_Ib',\n",
       "       'adenocarcinoma_left.lower.lobe_T2_N0_M0_Ib',\n",
       "       'adenocarcinoma_left.lower.lobe_T2_N0_M0_Ib',\n",
       "       'adenocarcinoma_left.lower.lobe_T2_N0_M0_Ib',\n",
       "       'adenocarcinoma_left.lower.lobe_T2_N0_M0_Ib',\n",
       "       'adenocarcinoma_left.lower.lobe_T2_N0_M0_Ib',\n",
       "       'adenocarcinoma_left.lower.lobe_T2_N0_M0_Ib',\n",
       "       'adenocarcinoma_left.lower.lobe_T2_N0_M0_Ib',\n",
       "       'adenocarcinoma_left.lower.lobe_T2_N0_M0_Ib',\n",
       "       'adenocarcinoma_left.lower.lobe_T2_N0_M0_Ib',\n",
       "       'adenocarcinoma_left.lower.lobe_T2_N0_M0_Ib',\n",
       "       'adenocarcinoma_left.lower.lobe_T2_N0_M0_Ib',\n",
       "       'adenocarcinoma_left.lower.lobe_T2_N0_M0_Ib',\n",
       "       'adenocarcinoma_left.lower.lobe_T2_N0_M0_Ib',\n",
       "       'adenocarcinoma_left.lower.lobe_T2_N0_M0_Ib',\n",
       "       'adenocarcinoma_left.lower.lobe_T2_N0_M0_Ib',\n",
       "       'adenocarcinoma_left.lower.lobe_T2_N0_M0_Ib',\n",
       "       'adenocarcinoma_left.lower.lobe_T2_N0_M0_Ib',\n",
       "       'adenocarcinoma_left.lower.lobe_T2_N0_M0_Ib',\n",
       "       'adenocarcinoma_left.lower.lobe_T2_N0_M0_Ib',\n",
       "       'adenocarcinoma_left.lower.lobe_T2_N0_M0_Ib',\n",
       "       'adenocarcinoma_left.lower.lobe_T2_N0_M0_Ib',\n",
       "       'adenocarcinoma_left.lower.lobe_T2_N0_M0_Ib',\n",
       "       'adenocarcinoma_left.lower.lobe_T2_N0_M0_Ib',\n",
       "       'adenocarcinoma_left.lower.lobe_T2_N0_M0_Ib',\n",
       "       'adenocarcinoma_left.lower.lobe_T2_N0_M0_Ib',\n",
       "       'adenocarcinoma_left.lower.lobe_T2_N0_M0_Ib',\n",
       "       'adenocarcinoma_left.lower.lobe_T2_N0_M0_Ib',\n",
       "       'adenocarcinoma_left.lower.lobe_T2_N0_M0_Ib',\n",
       "       'adenocarcinoma_left.lower.lobe_T2_N0_M0_Ib',\n",
       "       'adenocarcinoma_left.lower.lobe_T2_N0_M0_Ib',\n",
       "       'adenocarcinoma_left.lower.lobe_T2_N0_M0_Ib',\n",
       "       'adenocarcinoma_left.lower.lobe_T2_N0_M0_Ib',\n",
       "       'adenocarcinoma_left.lower.lobe_T2_N0_M0_Ib',\n",
       "       'adenocarcinoma_left.lower.lobe_T2_N0_M0_Ib',\n",
       "       'adenocarcinoma_left.lower.lobe_T2_N0_M0_Ib',\n",
       "       'adenocarcinoma_left.lower.lobe_T2_N0_M0_Ib',\n",
       "       'adenocarcinoma_left.lower.lobe_T2_N0_M0_Ib',\n",
       "       'adenocarcinoma_left.lower.lobe_T2_N0_M0_Ib',\n",
       "       'adenocarcinoma_left.lower.lobe_T2_N0_M0_Ib',\n",
       "       'adenocarcinoma_left.lower.lobe_T2_N0_M0_Ib',\n",
       "       'adenocarcinoma_left.lower.lobe_T2_N0_M0_Ib',\n",
       "       'adenocarcinoma_left.lower.lobe_T2_N0_M0_Ib',\n",
       "       'adenocarcinoma_left.lower.lobe_T2_N0_M0_Ib',\n",
       "       'adenocarcinoma_left.lower.lobe_T2_N0_M0_Ib',\n",
       "       'adenocarcinoma_left.lower.lobe_T2_N0_M0_Ib',\n",
       "       'adenocarcinoma_left.lower.lobe_T2_N0_M0_Ib',\n",
       "       'adenocarcinoma_left.lower.lobe_T2_N0_M0_Ib',\n",
       "       'adenocarcinoma_left.lower.lobe_T2_N0_M0_Ib',\n",
       "       'adenocarcinoma_left.lower.lobe_T2_N0_M0_Ib',\n",
       "       'adenocarcinoma_left.lower.lobe_T2_N0_M0_Ib',\n",
       "       'adenocarcinoma_left.lower.lobe_T2_N0_M0_Ib',\n",
       "       'adenocarcinoma_left.lower.lobe_T2_N0_M0_Ib',\n",
       "       'adenocarcinoma_left.lower.lobe_T2_N0_M0_Ib',\n",
       "       'adenocarcinoma_left.lower.lobe_T2_N0_M0_Ib',\n",
       "       'adenocarcinoma_left.lower.lobe_T2_N0_M0_Ib',\n",
       "       'adenocarcinoma_left.lower.lobe_T2_N0_M0_Ib',\n",
       "       'adenocarcinoma_left.lower.lobe_T2_N0_M0_Ib',\n",
       "       'adenocarcinoma_left.lower.lobe_T2_N0_M0_Ib',\n",
       "       'adenocarcinoma_left.lower.lobe_T2_N0_M0_Ib',\n",
       "       'adenocarcinoma_left.lower.lobe_T2_N0_M0_Ib',\n",
       "       'adenocarcinoma_left.lower.lobe_T2_N0_M0_Ib',\n",
       "       'adenocarcinoma_left.lower.lobe_T2_N0_M0_Ib',\n",
       "       'adenocarcinoma_left.lower.lobe_T2_N0_M0_Ib',\n",
       "       'adenocarcinoma_left.lower.lobe_T2_N0_M0_Ib',\n",
       "       'adenocarcinoma_left.lower.lobe_T2_N0_M0_Ib',\n",
       "       'adenocarcinoma_left.lower.lobe_T2_N0_M0_Ib',\n",
       "       'adenocarcinoma_left.lower.lobe_T2_N0_M0_Ib',\n",
       "       'adenocarcinoma_left.lower.lobe_T2_N0_M0_Ib',\n",
       "       'adenocarcinoma_left.lower.lobe_T2_N0_M0_Ib',\n",
       "       'adenocarcinoma_left.lower.lobe_T2_N0_M0_Ib',\n",
       "       'adenocarcinoma_left.lower.lobe_T2_N0_M0_Ib',\n",
       "       'adenocarcinoma_left.lower.lobe_T2_N0_M0_Ib',\n",
       "       'adenocarcinoma_left.lower.lobe_T2_N0_M0_Ib',\n",
       "       'adenocarcinoma_left.lower.lobe_T2_N0_M0_Ib',\n",
       "       'adenocarcinoma_left.lower.lobe_T2_N0_M0_Ib',\n",
       "       'adenocarcinoma_left.lower.lobe_T2_N0_M0_Ib',\n",
       "       'adenocarcinoma_left.lower.lobe_T2_N0_M0_Ib',\n",
       "       'adenocarcinoma_left.lower.lobe_T2_N0_M0_Ib',\n",
       "       'adenocarcinoma_left.lower.lobe_T2_N0_M0_Ib',\n",
       "       'adenocarcinoma_left.lower.lobe_T2_N0_M0_Ib',\n",
       "       'adenocarcinoma_left.lower.lobe_T2_N0_M0_Ib',\n",
       "       'adenocarcinoma_left.lower.lobe_T2_N0_M0_Ib',\n",
       "       'adenocarcinoma_left.lower.lobe_T2_N0_M0_Ib',\n",
       "       'adenocarcinoma_left.lower.lobe_T2_N0_M0_Ib',\n",
       "       'adenocarcinoma_left.lower.lobe_T2_N0_M0_Ib',\n",
       "       'adenocarcinoma_left.lower.lobe_T2_N0_M0_Ib',\n",
       "       'adenocarcinoma_left.lower.lobe_T2_N0_M0_Ib',\n",
       "       'adenocarcinoma_left.lower.lobe_T2_N0_M0_Ib',\n",
       "       'adenocarcinoma_left.lower.lobe_T2_N0_M0_Ib',\n",
       "       'adenocarcinoma_left.lower.lobe_T2_N0_M0_Ib',\n",
       "       'adenocarcinoma_left.lower.lobe_T2_N0_M0_Ib',\n",
       "       'adenocarcinoma_left.lower.lobe_T2_N0_M0_Ib',\n",
       "       'adenocarcinoma_left.lower.lobe_T2_N0_M0_Ib',\n",
       "       'adenocarcinoma_left.lower.lobe_T2_N0_M0_Ib',\n",
       "       'adenocarcinoma_left.lower.lobe_T2_N0_M0_Ib',\n",
       "       'adenocarcinoma_left.lower.lobe_T2_N0_M0_Ib',\n",
       "       'adenocarcinoma_left.lower.lobe_T2_N0_M0_Ib',\n",
       "       'adenocarcinoma_left.lower.lobe_T2_N0_M0_Ib',\n",
       "       'adenocarcinoma_left.lower.lobe_T2_N0_M0_Ib',\n",
       "       'adenocarcinoma_left.lower.lobe_T2_N0_M0_Ib',\n",
       "       'adenocarcinoma_left.lower.lobe_T2_N0_M0_Ib',\n",
       "       'adenocarcinoma_left.lower.lobe_T2_N0_M0_Ib',\n",
       "       'adenocarcinoma_left.lower.lobe_T2_N0_M0_Ib',\n",
       "       'adenocarcinoma_left.lower.lobe_T2_N0_M0_Ib',\n",
       "       'adenocarcinoma_left.lower.lobe_T2_N0_M0_Ib',\n",
       "       'adenocarcinoma_left.lower.lobe_T2_N0_M0_Ib',\n",
       "       'adenocarcinoma_left.lower.lobe_T2_N0_M0_Ib',\n",
       "       'large.cell.carcinoma_left.hilum_T2_N2_M0_IIIa',\n",
       "       'large.cell.carcinoma_left.hilum_T2_N2_M0_IIIa',\n",
       "       'large.cell.carcinoma_left.hilum_T2_N2_M0_IIIa',\n",
       "       'large.cell.carcinoma_left.hilum_T2_N2_M0_IIIa',\n",
       "       'large.cell.carcinoma_left.hilum_T2_N2_M0_IIIa',\n",
       "       'large.cell.carcinoma_left.hilum_T2_N2_M0_IIIa',\n",
       "       'large.cell.carcinoma_left.hilum_T2_N2_M0_IIIa',\n",
       "       'large.cell.carcinoma_left.hilum_T2_N2_M0_IIIa',\n",
       "       'large.cell.carcinoma_left.hilum_T2_N2_M0_IIIa',\n",
       "       'large.cell.carcinoma_left.hilum_T2_N2_M0_IIIa',\n",
       "       'large.cell.carcinoma_left.hilum_T2_N2_M0_IIIa',\n",
       "       'large.cell.carcinoma_left.hilum_T2_N2_M0_IIIa',\n",
       "       'large.cell.carcinoma_left.hilum_T2_N2_M0_IIIa',\n",
       "       'large.cell.carcinoma_left.hilum_T2_N2_M0_IIIa',\n",
       "       'large.cell.carcinoma_left.hilum_T2_N2_M0_IIIa',\n",
       "       'large.cell.carcinoma_left.hilum_T2_N2_M0_IIIa',\n",
       "       'large.cell.carcinoma_left.hilum_T2_N2_M0_IIIa',\n",
       "       'large.cell.carcinoma_left.hilum_T2_N2_M0_IIIa',\n",
       "       'large.cell.carcinoma_left.hilum_T2_N2_M0_IIIa',\n",
       "       'large.cell.carcinoma_left.hilum_T2_N2_M0_IIIa',\n",
       "       'large.cell.carcinoma_left.hilum_T2_N2_M0_IIIa',\n",
       "       'large.cell.carcinoma_left.hilum_T2_N2_M0_IIIa',\n",
       "       'large.cell.carcinoma_left.hilum_T2_N2_M0_IIIa',\n",
       "       'large.cell.carcinoma_left.hilum_T2_N2_M0_IIIa',\n",
       "       'large.cell.carcinoma_left.hilum_T2_N2_M0_IIIa',\n",
       "       'large.cell.carcinoma_left.hilum_T2_N2_M0_IIIa',\n",
       "       'large.cell.carcinoma_left.hilum_T2_N2_M0_IIIa',\n",
       "       'large.cell.carcinoma_left.hilum_T2_N2_M0_IIIa',\n",
       "       'large.cell.carcinoma_left.hilum_T2_N2_M0_IIIa',\n",
       "       'large.cell.carcinoma_left.hilum_T2_N2_M0_IIIa',\n",
       "       'large.cell.carcinoma_left.hilum_T2_N2_M0_IIIa',\n",
       "       'large.cell.carcinoma_left.hilum_T2_N2_M0_IIIa',\n",
       "       'large.cell.carcinoma_left.hilum_T2_N2_M0_IIIa',\n",
       "       'large.cell.carcinoma_left.hilum_T2_N2_M0_IIIa',\n",
       "       'large.cell.carcinoma_left.hilum_T2_N2_M0_IIIa',\n",
       "       'large.cell.carcinoma_left.hilum_T2_N2_M0_IIIa',\n",
       "       'large.cell.carcinoma_left.hilum_T2_N2_M0_IIIa',\n",
       "       'large.cell.carcinoma_left.hilum_T2_N2_M0_IIIa',\n",
       "       'large.cell.carcinoma_left.hilum_T2_N2_M0_IIIa',\n",
       "       'large.cell.carcinoma_left.hilum_T2_N2_M0_IIIa',\n",
       "       'large.cell.carcinoma_left.hilum_T2_N2_M0_IIIa',\n",
       "       'large.cell.carcinoma_left.hilum_T2_N2_M0_IIIa',\n",
       "       'large.cell.carcinoma_left.hilum_T2_N2_M0_IIIa',\n",
       "       'large.cell.carcinoma_left.hilum_T2_N2_M0_IIIa',\n",
       "       'large.cell.carcinoma_left.hilum_T2_N2_M0_IIIa',\n",
       "       'large.cell.carcinoma_left.hilum_T2_N2_M0_IIIa',\n",
       "       'large.cell.carcinoma_left.hilum_T2_N2_M0_IIIa',\n",
       "       'large.cell.carcinoma_left.hilum_T2_N2_M0_IIIa',\n",
       "       'large.cell.carcinoma_left.hilum_T2_N2_M0_IIIa',\n",
       "       'large.cell.carcinoma_left.hilum_T2_N2_M0_IIIa',\n",
       "       'large.cell.carcinoma_left.hilum_T2_N2_M0_IIIa',\n",
       "       'large.cell.carcinoma_left.hilum_T2_N2_M0_IIIa',\n",
       "       'large.cell.carcinoma_left.hilum_T2_N2_M0_IIIa',\n",
       "       'large.cell.carcinoma_left.hilum_T2_N2_M0_IIIa',\n",
       "       'large.cell.carcinoma_left.hilum_T2_N2_M0_IIIa',\n",
       "       'large.cell.carcinoma_left.hilum_T2_N2_M0_IIIa',\n",
       "       'large.cell.carcinoma_left.hilum_T2_N2_M0_IIIa',\n",
       "       'large.cell.carcinoma_left.hilum_T2_N2_M0_IIIa',\n",
       "       'large.cell.carcinoma_left.hilum_T2_N2_M0_IIIa',\n",
       "       'large.cell.carcinoma_left.hilum_T2_N2_M0_IIIa',\n",
       "       'large.cell.carcinoma_left.hilum_T2_N2_M0_IIIa',\n",
       "       'large.cell.carcinoma_left.hilum_T2_N2_M0_IIIa',\n",
       "       'large.cell.carcinoma_left.hilum_T2_N2_M0_IIIa',\n",
       "       'large.cell.carcinoma_left.hilum_T2_N2_M0_IIIa',\n",
       "       'large.cell.carcinoma_left.hilum_T2_N2_M0_IIIa',\n",
       "       'large.cell.carcinoma_left.hilum_T2_N2_M0_IIIa',\n",
       "       'large.cell.carcinoma_left.hilum_T2_N2_M0_IIIa',\n",
       "       'large.cell.carcinoma_left.hilum_T2_N2_M0_IIIa',\n",
       "       'large.cell.carcinoma_left.hilum_T2_N2_M0_IIIa',\n",
       "       'large.cell.carcinoma_left.hilum_T2_N2_M0_IIIa',\n",
       "       'large.cell.carcinoma_left.hilum_T2_N2_M0_IIIa',\n",
       "       'large.cell.carcinoma_left.hilum_T2_N2_M0_IIIa',\n",
       "       'large.cell.carcinoma_left.hilum_T2_N2_M0_IIIa',\n",
       "       'large.cell.carcinoma_left.hilum_T2_N2_M0_IIIa',\n",
       "       'large.cell.carcinoma_left.hilum_T2_N2_M0_IIIa',\n",
       "       'large.cell.carcinoma_left.hilum_T2_N2_M0_IIIa',\n",
       "       'large.cell.carcinoma_left.hilum_T2_N2_M0_IIIa',\n",
       "       'large.cell.carcinoma_left.hilum_T2_N2_M0_IIIa',\n",
       "       'large.cell.carcinoma_left.hilum_T2_N2_M0_IIIa',\n",
       "       'large.cell.carcinoma_left.hilum_T2_N2_M0_IIIa',\n",
       "       'large.cell.carcinoma_left.hilum_T2_N2_M0_IIIa',\n",
       "       'large.cell.carcinoma_left.hilum_T2_N2_M0_IIIa',\n",
       "       'large.cell.carcinoma_left.hilum_T2_N2_M0_IIIa',\n",
       "       'large.cell.carcinoma_left.hilum_T2_N2_M0_IIIa',\n",
       "       'large.cell.carcinoma_left.hilum_T2_N2_M0_IIIa',\n",
       "       'large.cell.carcinoma_left.hilum_T2_N2_M0_IIIa',\n",
       "       'large.cell.carcinoma_left.hilum_T2_N2_M0_IIIa',\n",
       "       'large.cell.carcinoma_left.hilum_T2_N2_M0_IIIa',\n",
       "       'large.cell.carcinoma_left.hilum_T2_N2_M0_IIIa',\n",
       "       'large.cell.carcinoma_left.hilum_T2_N2_M0_IIIa',\n",
       "       'large.cell.carcinoma_left.hilum_T2_N2_M0_IIIa',\n",
       "       'large.cell.carcinoma_left.hilum_T2_N2_M0_IIIa',\n",
       "       'large.cell.carcinoma_left.hilum_T2_N2_M0_IIIa',\n",
       "       'large.cell.carcinoma_left.hilum_T2_N2_M0_IIIa',\n",
       "       'large.cell.carcinoma_left.hilum_T2_N2_M0_IIIa',\n",
       "       'large.cell.carcinoma_left.hilum_T2_N2_M0_IIIa',\n",
       "       'large.cell.carcinoma_left.hilum_T2_N2_M0_IIIa',\n",
       "       'large.cell.carcinoma_left.hilum_T2_N2_M0_IIIa',\n",
       "       'large.cell.carcinoma_left.hilum_T2_N2_M0_IIIa',\n",
       "       'large.cell.carcinoma_left.hilum_T2_N2_M0_IIIa',\n",
       "       'large.cell.carcinoma_left.hilum_T2_N2_M0_IIIa',\n",
       "       'large.cell.carcinoma_left.hilum_T2_N2_M0_IIIa',\n",
       "       'large.cell.carcinoma_left.hilum_T2_N2_M0_IIIa',\n",
       "       'large.cell.carcinoma_left.hilum_T2_N2_M0_IIIa',\n",
       "       'large.cell.carcinoma_left.hilum_T2_N2_M0_IIIa',\n",
       "       'large.cell.carcinoma_left.hilum_T2_N2_M0_IIIa',\n",
       "       'large.cell.carcinoma_left.hilum_T2_N2_M0_IIIa',\n",
       "       'large.cell.carcinoma_left.hilum_T2_N2_M0_IIIa',\n",
       "       'large.cell.carcinoma_left.hilum_T2_N2_M0_IIIa',\n",
       "       'large.cell.carcinoma_left.hilum_T2_N2_M0_IIIa',\n",
       "       'large.cell.carcinoma_left.hilum_T2_N2_M0_IIIa',\n",
       "       'large.cell.carcinoma_left.hilum_T2_N2_M0_IIIa',\n",
       "       'large.cell.carcinoma_left.hilum_T2_N2_M0_IIIa',\n",
       "       'large.cell.carcinoma_left.hilum_T2_N2_M0_IIIa',\n",
       "       'large.cell.carcinoma_left.hilum_T2_N2_M0_IIIa', 'normal',\n",
       "       'normal', 'normal', 'normal', 'normal', 'normal', 'normal',\n",
       "       'normal', 'normal', 'normal', 'normal', 'normal', 'normal',\n",
       "       'normal', 'normal', 'normal', 'normal', 'normal', 'normal',\n",
       "       'normal', 'normal', 'normal', 'normal', 'normal', 'normal',\n",
       "       'normal', 'normal', 'normal', 'normal', 'normal', 'normal',\n",
       "       'normal', 'normal', 'normal', 'normal', 'normal', 'normal',\n",
       "       'normal', 'normal', 'normal', 'normal', 'normal', 'normal',\n",
       "       'normal', 'normal', 'normal', 'normal', 'normal', 'normal',\n",
       "       'normal', 'normal', 'normal', 'normal', 'normal', 'normal',\n",
       "       'normal', 'normal', 'normal', 'normal', 'normal', 'normal',\n",
       "       'normal', 'normal', 'normal', 'normal', 'normal', 'normal',\n",
       "       'normal', 'normal', 'normal', 'normal', 'normal', 'normal',\n",
       "       'normal', 'normal', 'normal', 'normal', 'normal', 'normal',\n",
       "       'normal', 'normal', 'normal', 'normal', 'normal', 'normal',\n",
       "       'normal', 'normal', 'normal', 'normal', 'normal', 'normal',\n",
       "       'normal', 'normal', 'normal', 'normal', 'normal', 'normal',\n",
       "       'normal', 'normal', 'normal', 'normal', 'normal', 'normal',\n",
       "       'normal', 'normal', 'normal', 'normal', 'normal', 'normal',\n",
       "       'normal', 'normal', 'normal', 'normal', 'normal', 'normal',\n",
       "       'normal', 'normal', 'normal', 'normal', 'normal', 'normal',\n",
       "       'normal', 'normal', 'normal', 'normal', 'normal', 'normal',\n",
       "       'normal', 'normal', 'normal', 'normal', 'normal', 'normal',\n",
       "       'normal', 'normal', 'normal', 'normal', 'normal', 'normal',\n",
       "       'normal', 'normal', 'normal', 'normal', 'normal', 'normal',\n",
       "       'normal', 'normal', 'normal',\n",
       "       'squamous.cell.carcinoma_left.hilum_T1_N2_M0_IIIa',\n",
       "       'squamous.cell.carcinoma_left.hilum_T1_N2_M0_IIIa',\n",
       "       'squamous.cell.carcinoma_left.hilum_T1_N2_M0_IIIa',\n",
       "       'squamous.cell.carcinoma_left.hilum_T1_N2_M0_IIIa',\n",
       "       'squamous.cell.carcinoma_left.hilum_T1_N2_M0_IIIa',\n",
       "       'squamous.cell.carcinoma_left.hilum_T1_N2_M0_IIIa',\n",
       "       'squamous.cell.carcinoma_left.hilum_T1_N2_M0_IIIa',\n",
       "       'squamous.cell.carcinoma_left.hilum_T1_N2_M0_IIIa',\n",
       "       'squamous.cell.carcinoma_left.hilum_T1_N2_M0_IIIa',\n",
       "       'squamous.cell.carcinoma_left.hilum_T1_N2_M0_IIIa',\n",
       "       'squamous.cell.carcinoma_left.hilum_T1_N2_M0_IIIa',\n",
       "       'squamous.cell.carcinoma_left.hilum_T1_N2_M0_IIIa',\n",
       "       'squamous.cell.carcinoma_left.hilum_T1_N2_M0_IIIa',\n",
       "       'squamous.cell.carcinoma_left.hilum_T1_N2_M0_IIIa',\n",
       "       'squamous.cell.carcinoma_left.hilum_T1_N2_M0_IIIa',\n",
       "       'squamous.cell.carcinoma_left.hilum_T1_N2_M0_IIIa',\n",
       "       'squamous.cell.carcinoma_left.hilum_T1_N2_M0_IIIa',\n",
       "       'squamous.cell.carcinoma_left.hilum_T1_N2_M0_IIIa',\n",
       "       'squamous.cell.carcinoma_left.hilum_T1_N2_M0_IIIa',\n",
       "       'squamous.cell.carcinoma_left.hilum_T1_N2_M0_IIIa',\n",
       "       'squamous.cell.carcinoma_left.hilum_T1_N2_M0_IIIa',\n",
       "       'squamous.cell.carcinoma_left.hilum_T1_N2_M0_IIIa',\n",
       "       'squamous.cell.carcinoma_left.hilum_T1_N2_M0_IIIa',\n",
       "       'squamous.cell.carcinoma_left.hilum_T1_N2_M0_IIIa',\n",
       "       'squamous.cell.carcinoma_left.hilum_T1_N2_M0_IIIa',\n",
       "       'squamous.cell.carcinoma_left.hilum_T1_N2_M0_IIIa',\n",
       "       'squamous.cell.carcinoma_left.hilum_T1_N2_M0_IIIa',\n",
       "       'squamous.cell.carcinoma_left.hilum_T1_N2_M0_IIIa',\n",
       "       'squamous.cell.carcinoma_left.hilum_T1_N2_M0_IIIa',\n",
       "       'squamous.cell.carcinoma_left.hilum_T1_N2_M0_IIIa',\n",
       "       'squamous.cell.carcinoma_left.hilum_T1_N2_M0_IIIa',\n",
       "       'squamous.cell.carcinoma_left.hilum_T1_N2_M0_IIIa',\n",
       "       'squamous.cell.carcinoma_left.hilum_T1_N2_M0_IIIa',\n",
       "       'squamous.cell.carcinoma_left.hilum_T1_N2_M0_IIIa',\n",
       "       'squamous.cell.carcinoma_left.hilum_T1_N2_M0_IIIa',\n",
       "       'squamous.cell.carcinoma_left.hilum_T1_N2_M0_IIIa',\n",
       "       'squamous.cell.carcinoma_left.hilum_T1_N2_M0_IIIa',\n",
       "       'squamous.cell.carcinoma_left.hilum_T1_N2_M0_IIIa',\n",
       "       'squamous.cell.carcinoma_left.hilum_T1_N2_M0_IIIa',\n",
       "       'squamous.cell.carcinoma_left.hilum_T1_N2_M0_IIIa',\n",
       "       'squamous.cell.carcinoma_left.hilum_T1_N2_M0_IIIa',\n",
       "       'squamous.cell.carcinoma_left.hilum_T1_N2_M0_IIIa',\n",
       "       'squamous.cell.carcinoma_left.hilum_T1_N2_M0_IIIa',\n",
       "       'squamous.cell.carcinoma_left.hilum_T1_N2_M0_IIIa',\n",
       "       'squamous.cell.carcinoma_left.hilum_T1_N2_M0_IIIa',\n",
       "       'squamous.cell.carcinoma_left.hilum_T1_N2_M0_IIIa',\n",
       "       'squamous.cell.carcinoma_left.hilum_T1_N2_M0_IIIa',\n",
       "       'squamous.cell.carcinoma_left.hilum_T1_N2_M0_IIIa',\n",
       "       'squamous.cell.carcinoma_left.hilum_T1_N2_M0_IIIa',\n",
       "       'squamous.cell.carcinoma_left.hilum_T1_N2_M0_IIIa',\n",
       "       'squamous.cell.carcinoma_left.hilum_T1_N2_M0_IIIa',\n",
       "       'squamous.cell.carcinoma_left.hilum_T1_N2_M0_IIIa',\n",
       "       'squamous.cell.carcinoma_left.hilum_T1_N2_M0_IIIa',\n",
       "       'squamous.cell.carcinoma_left.hilum_T1_N2_M0_IIIa',\n",
       "       'squamous.cell.carcinoma_left.hilum_T1_N2_M0_IIIa',\n",
       "       'squamous.cell.carcinoma_left.hilum_T1_N2_M0_IIIa',\n",
       "       'squamous.cell.carcinoma_left.hilum_T1_N2_M0_IIIa',\n",
       "       'squamous.cell.carcinoma_left.hilum_T1_N2_M0_IIIa',\n",
       "       'squamous.cell.carcinoma_left.hilum_T1_N2_M0_IIIa',\n",
       "       'squamous.cell.carcinoma_left.hilum_T1_N2_M0_IIIa',\n",
       "       'squamous.cell.carcinoma_left.hilum_T1_N2_M0_IIIa',\n",
       "       'squamous.cell.carcinoma_left.hilum_T1_N2_M0_IIIa',\n",
       "       'squamous.cell.carcinoma_left.hilum_T1_N2_M0_IIIa',\n",
       "       'squamous.cell.carcinoma_left.hilum_T1_N2_M0_IIIa',\n",
       "       'squamous.cell.carcinoma_left.hilum_T1_N2_M0_IIIa',\n",
       "       'squamous.cell.carcinoma_left.hilum_T1_N2_M0_IIIa',\n",
       "       'squamous.cell.carcinoma_left.hilum_T1_N2_M0_IIIa',\n",
       "       'squamous.cell.carcinoma_left.hilum_T1_N2_M0_IIIa',\n",
       "       'squamous.cell.carcinoma_left.hilum_T1_N2_M0_IIIa',\n",
       "       'squamous.cell.carcinoma_left.hilum_T1_N2_M0_IIIa',\n",
       "       'squamous.cell.carcinoma_left.hilum_T1_N2_M0_IIIa',\n",
       "       'squamous.cell.carcinoma_left.hilum_T1_N2_M0_IIIa',\n",
       "       'squamous.cell.carcinoma_left.hilum_T1_N2_M0_IIIa',\n",
       "       'squamous.cell.carcinoma_left.hilum_T1_N2_M0_IIIa',\n",
       "       'squamous.cell.carcinoma_left.hilum_T1_N2_M0_IIIa',\n",
       "       'squamous.cell.carcinoma_left.hilum_T1_N2_M0_IIIa',\n",
       "       'squamous.cell.carcinoma_left.hilum_T1_N2_M0_IIIa',\n",
       "       'squamous.cell.carcinoma_left.hilum_T1_N2_M0_IIIa',\n",
       "       'squamous.cell.carcinoma_left.hilum_T1_N2_M0_IIIa',\n",
       "       'squamous.cell.carcinoma_left.hilum_T1_N2_M0_IIIa',\n",
       "       'squamous.cell.carcinoma_left.hilum_T1_N2_M0_IIIa',\n",
       "       'squamous.cell.carcinoma_left.hilum_T1_N2_M0_IIIa',\n",
       "       'squamous.cell.carcinoma_left.hilum_T1_N2_M0_IIIa',\n",
       "       'squamous.cell.carcinoma_left.hilum_T1_N2_M0_IIIa',\n",
       "       'squamous.cell.carcinoma_left.hilum_T1_N2_M0_IIIa',\n",
       "       'squamous.cell.carcinoma_left.hilum_T1_N2_M0_IIIa',\n",
       "       'squamous.cell.carcinoma_left.hilum_T1_N2_M0_IIIa',\n",
       "       'squamous.cell.carcinoma_left.hilum_T1_N2_M0_IIIa',\n",
       "       'squamous.cell.carcinoma_left.hilum_T1_N2_M0_IIIa',\n",
       "       'squamous.cell.carcinoma_left.hilum_T1_N2_M0_IIIa',\n",
       "       'squamous.cell.carcinoma_left.hilum_T1_N2_M0_IIIa',\n",
       "       'squamous.cell.carcinoma_left.hilum_T1_N2_M0_IIIa',\n",
       "       'squamous.cell.carcinoma_left.hilum_T1_N2_M0_IIIa',\n",
       "       'squamous.cell.carcinoma_left.hilum_T1_N2_M0_IIIa',\n",
       "       'squamous.cell.carcinoma_left.hilum_T1_N2_M0_IIIa',\n",
       "       'squamous.cell.carcinoma_left.hilum_T1_N2_M0_IIIa',\n",
       "       'squamous.cell.carcinoma_left.hilum_T1_N2_M0_IIIa',\n",
       "       'squamous.cell.carcinoma_left.hilum_T1_N2_M0_IIIa',\n",
       "       'squamous.cell.carcinoma_left.hilum_T1_N2_M0_IIIa',\n",
       "       'squamous.cell.carcinoma_left.hilum_T1_N2_M0_IIIa',\n",
       "       'squamous.cell.carcinoma_left.hilum_T1_N2_M0_IIIa',\n",
       "       'squamous.cell.carcinoma_left.hilum_T1_N2_M0_IIIa',\n",
       "       'squamous.cell.carcinoma_left.hilum_T1_N2_M0_IIIa',\n",
       "       'squamous.cell.carcinoma_left.hilum_T1_N2_M0_IIIa',\n",
       "       'squamous.cell.carcinoma_left.hilum_T1_N2_M0_IIIa',\n",
       "       'squamous.cell.carcinoma_left.hilum_T1_N2_M0_IIIa',\n",
       "       'squamous.cell.carcinoma_left.hilum_T1_N2_M0_IIIa',\n",
       "       'squamous.cell.carcinoma_left.hilum_T1_N2_M0_IIIa',\n",
       "       'squamous.cell.carcinoma_left.hilum_T1_N2_M0_IIIa',\n",
       "       'squamous.cell.carcinoma_left.hilum_T1_N2_M0_IIIa',\n",
       "       'squamous.cell.carcinoma_left.hilum_T1_N2_M0_IIIa',\n",
       "       'squamous.cell.carcinoma_left.hilum_T1_N2_M0_IIIa',\n",
       "       'squamous.cell.carcinoma_left.hilum_T1_N2_M0_IIIa',\n",
       "       'squamous.cell.carcinoma_left.hilum_T1_N2_M0_IIIa',\n",
       "       'squamous.cell.carcinoma_left.hilum_T1_N2_M0_IIIa',\n",
       "       'squamous.cell.carcinoma_left.hilum_T1_N2_M0_IIIa',\n",
       "       'squamous.cell.carcinoma_left.hilum_T1_N2_M0_IIIa',\n",
       "       'squamous.cell.carcinoma_left.hilum_T1_N2_M0_IIIa',\n",
       "       'squamous.cell.carcinoma_left.hilum_T1_N2_M0_IIIa',\n",
       "       'squamous.cell.carcinoma_left.hilum_T1_N2_M0_IIIa',\n",
       "       'squamous.cell.carcinoma_left.hilum_T1_N2_M0_IIIa',\n",
       "       'squamous.cell.carcinoma_left.hilum_T1_N2_M0_IIIa',\n",
       "       'squamous.cell.carcinoma_left.hilum_T1_N2_M0_IIIa',\n",
       "       'squamous.cell.carcinoma_left.hilum_T1_N2_M0_IIIa',\n",
       "       'squamous.cell.carcinoma_left.hilum_T1_N2_M0_IIIa',\n",
       "       'squamous.cell.carcinoma_left.hilum_T1_N2_M0_IIIa',\n",
       "       'squamous.cell.carcinoma_left.hilum_T1_N2_M0_IIIa',\n",
       "       'squamous.cell.carcinoma_left.hilum_T1_N2_M0_IIIa',\n",
       "       'squamous.cell.carcinoma_left.hilum_T1_N2_M0_IIIa',\n",
       "       'squamous.cell.carcinoma_left.hilum_T1_N2_M0_IIIa',\n",
       "       'squamous.cell.carcinoma_left.hilum_T1_N2_M0_IIIa',\n",
       "       'squamous.cell.carcinoma_left.hilum_T1_N2_M0_IIIa',\n",
       "       'squamous.cell.carcinoma_left.hilum_T1_N2_M0_IIIa',\n",
       "       'squamous.cell.carcinoma_left.hilum_T1_N2_M0_IIIa',\n",
       "       'squamous.cell.carcinoma_left.hilum_T1_N2_M0_IIIa',\n",
       "       'squamous.cell.carcinoma_left.hilum_T1_N2_M0_IIIa',\n",
       "       'squamous.cell.carcinoma_left.hilum_T1_N2_M0_IIIa',\n",
       "       'squamous.cell.carcinoma_left.hilum_T1_N2_M0_IIIa',\n",
       "       'squamous.cell.carcinoma_left.hilum_T1_N2_M0_IIIa',\n",
       "       'squamous.cell.carcinoma_left.hilum_T1_N2_M0_IIIa',\n",
       "       'squamous.cell.carcinoma_left.hilum_T1_N2_M0_IIIa',\n",
       "       'squamous.cell.carcinoma_left.hilum_T1_N2_M0_IIIa',\n",
       "       'squamous.cell.carcinoma_left.hilum_T1_N2_M0_IIIa',\n",
       "       'squamous.cell.carcinoma_left.hilum_T1_N2_M0_IIIa',\n",
       "       'squamous.cell.carcinoma_left.hilum_T1_N2_M0_IIIa',\n",
       "       'squamous.cell.carcinoma_left.hilum_T1_N2_M0_IIIa',\n",
       "       'squamous.cell.carcinoma_left.hilum_T1_N2_M0_IIIa',\n",
       "       'squamous.cell.carcinoma_left.hilum_T1_N2_M0_IIIa',\n",
       "       'squamous.cell.carcinoma_left.hilum_T1_N2_M0_IIIa',\n",
       "       'squamous.cell.carcinoma_left.hilum_T1_N2_M0_IIIa',\n",
       "       'squamous.cell.carcinoma_left.hilum_T1_N2_M0_IIIa',\n",
       "       'squamous.cell.carcinoma_left.hilum_T1_N2_M0_IIIa',\n",
       "       'squamous.cell.carcinoma_left.hilum_T1_N2_M0_IIIa',\n",
       "       'squamous.cell.carcinoma_left.hilum_T1_N2_M0_IIIa',\n",
       "       'squamous.cell.carcinoma_left.hilum_T1_N2_M0_IIIa'], dtype='<U48')"
      ]
     },
     "execution_count": 6,
     "metadata": {},
     "output_type": "execute_result"
    }
   ],
   "source": [
    "y"
   ]
  },
  {
   "cell_type": "code",
   "execution_count": 7,
   "id": "0758e038",
   "metadata": {},
   "outputs": [],
   "source": [
    "le=LabelEncoder()"
   ]
  },
  {
   "cell_type": "code",
   "execution_count": 8,
   "id": "8afe39fd",
   "metadata": {},
   "outputs": [
    {
     "data": {
      "text/plain": [
       "array([0, 0, 0, 0, 0, 0, 0, 0, 0, 0, 0, 0, 0, 0, 0, 0, 0, 0, 0, 0, 0, 0,\n",
       "       0, 0, 0, 0, 0, 0, 0, 0, 0, 0, 0, 0, 0, 0, 0, 0, 0, 0, 0, 0, 0, 0,\n",
       "       0, 0, 0, 0, 0, 0, 0, 0, 0, 0, 0, 0, 0, 0, 0, 0, 0, 0, 0, 0, 0, 0,\n",
       "       0, 0, 0, 0, 0, 0, 0, 0, 0, 0, 0, 0, 0, 0, 0, 0, 0, 0, 0, 0, 0, 0,\n",
       "       0, 0, 0, 0, 0, 0, 0, 0, 0, 0, 0, 0, 0, 0, 0, 0, 0, 0, 0, 0, 0, 0,\n",
       "       0, 0, 0, 0, 0, 0, 0, 0, 0, 0, 0, 0, 0, 0, 0, 0, 0, 0, 0, 0, 0, 0,\n",
       "       0, 0, 0, 0, 0, 0, 0, 0, 0, 0, 0, 0, 0, 0, 0, 0, 0, 0, 0, 0, 0, 0,\n",
       "       0, 0, 0, 0, 0, 0, 0, 0, 0, 0, 0, 0, 0, 0, 0, 0, 0, 0, 0, 0, 0, 0,\n",
       "       0, 0, 0, 0, 0, 0, 0, 0, 0, 0, 0, 0, 0, 0, 0, 0, 0, 0, 0, 1, 1, 1,\n",
       "       1, 1, 1, 1, 1, 1, 1, 1, 1, 1, 1, 1, 1, 1, 1, 1, 1, 1, 1, 1, 1, 1,\n",
       "       1, 1, 1, 1, 1, 1, 1, 1, 1, 1, 1, 1, 1, 1, 1, 1, 1, 1, 1, 1, 1, 1,\n",
       "       1, 1, 1, 1, 1, 1, 1, 1, 1, 1, 1, 1, 1, 1, 1, 1, 1, 1, 1, 1, 1, 1,\n",
       "       1, 1, 1, 1, 1, 1, 1, 1, 1, 1, 1, 1, 1, 1, 1, 1, 1, 1, 1, 1, 1, 1,\n",
       "       1, 1, 1, 1, 1, 1, 1, 1, 1, 1, 1, 1, 1, 1, 1, 1, 1, 1, 1, 1, 1, 1,\n",
       "       1, 1, 2, 2, 2, 2, 2, 2, 2, 2, 2, 2, 2, 2, 2, 2, 2, 2, 2, 2, 2, 2,\n",
       "       2, 2, 2, 2, 2, 2, 2, 2, 2, 2, 2, 2, 2, 2, 2, 2, 2, 2, 2, 2, 2, 2,\n",
       "       2, 2, 2, 2, 2, 2, 2, 2, 2, 2, 2, 2, 2, 2, 2, 2, 2, 2, 2, 2, 2, 2,\n",
       "       2, 2, 2, 2, 2, 2, 2, 2, 2, 2, 2, 2, 2, 2, 2, 2, 2, 2, 2, 2, 2, 2,\n",
       "       2, 2, 2, 2, 2, 2, 2, 2, 2, 2, 2, 2, 2, 2, 2, 2, 2, 2, 2, 2, 2, 2,\n",
       "       2, 2, 2, 2, 2, 2, 2, 2, 2, 2, 2, 2, 2, 2, 2, 2, 2, 2, 2, 2, 2, 2,\n",
       "       2, 2, 2, 2, 2, 2, 2, 2, 2, 2, 2, 2, 2, 2, 2, 2, 2, 2, 3, 3, 3, 3,\n",
       "       3, 3, 3, 3, 3, 3, 3, 3, 3, 3, 3, 3, 3, 3, 3, 3, 3, 3, 3, 3, 3, 3,\n",
       "       3, 3, 3, 3, 3, 3, 3, 3, 3, 3, 3, 3, 3, 3, 3, 3, 3, 3, 3, 3, 3, 3,\n",
       "       3, 3, 3, 3, 3, 3, 3, 3, 3, 3, 3, 3, 3, 3, 3, 3, 3, 3, 3, 3, 3, 3,\n",
       "       3, 3, 3, 3, 3, 3, 3, 3, 3, 3, 3, 3, 3, 3, 3, 3, 3, 3, 3, 3, 3, 3,\n",
       "       3, 3, 3, 3, 3, 3, 3, 3, 3, 3, 3, 3, 3, 3, 3, 3, 3, 3, 3, 3, 3, 3,\n",
       "       3, 3, 3, 3, 3, 3, 3, 3, 3, 3, 3, 3, 3, 3, 3, 3, 3, 3, 3, 3, 3, 3,\n",
       "       3, 3, 3, 3, 3, 3, 3, 3, 3, 3, 3, 3, 3, 3, 3, 3, 3, 3, 3],\n",
       "      dtype=int64)"
      ]
     },
     "execution_count": 8,
     "metadata": {},
     "output_type": "execute_result"
    }
   ],
   "source": [
    "y=le.fit_transform(y)\n",
    "y"
   ]
  },
  {
   "cell_type": "code",
   "execution_count": 9,
   "id": "34434430",
   "metadata": {},
   "outputs": [
    {
     "data": {
      "text/plain": [
       "(613,)"
      ]
     },
     "execution_count": 9,
     "metadata": {},
     "output_type": "execute_result"
    }
   ],
   "source": [
    "y.shape"
   ]
  },
  {
   "cell_type": "code",
   "execution_count": 10,
   "id": "f3914484",
   "metadata": {},
   "outputs": [],
   "source": [
    "xtrain,xtest,ytrain,ytest=train_test_split(x,y,test_size=0.2,random_state=48)"
   ]
  },
  {
   "cell_type": "code",
   "execution_count": 11,
   "id": "d25396da",
   "metadata": {},
   "outputs": [
    {
     "name": "stdout",
     "output_type": "stream",
     "text": [
      "490 490\n",
      "123 123\n"
     ]
    }
   ],
   "source": [
    "print(len(xtrain),len(ytrain))\n",
    "print(len(xtest),len(ytest))"
   ]
  },
  {
   "cell_type": "code",
   "execution_count": 12,
   "id": "62844e48",
   "metadata": {},
   "outputs": [],
   "source": [
    "# ytest"
   ]
  },
  {
   "cell_type": "code",
   "execution_count": 13,
   "id": "32d727d1",
   "metadata": {},
   "outputs": [],
   "source": [
    "# xtest"
   ]
  },
  {
   "cell_type": "code",
   "execution_count": 14,
   "id": "e25c41a4-08d2-4594-88e1-96b466b22efe",
   "metadata": {},
   "outputs": [
    {
     "name": "stdout",
     "output_type": "stream",
     "text": [
      "(123, 110, 110, 3)\n"
     ]
    }
   ],
   "source": [
    "print(xtest.shape)"
   ]
  },
  {
   "cell_type": "code",
   "execution_count": 15,
   "id": "98b9485e",
   "metadata": {},
   "outputs": [],
   "source": [
    "model=Sequential()\n",
    "model.add(Conv2D(32,(3,3),activation='relu',input_shape=(110,110,3)))\n",
    "model.add(MaxPool2D(2,2))\n",
    "model.add(Conv2D(64,(3,3),activation='relu'))\n",
    "model.add(MaxPool2D(2,2))\n",
    "model.add(Conv2D(128,(3,3),activation='relu'))\n",
    "model.add(MaxPool2D(2,2))\n",
    "model.add(Flatten())\n",
    "model.add(Dense(128,activation='relu'))\n",
    "model.add(Dense(4,activation='softmax'))"
   ]
  },
  {
   "cell_type": "code",
   "execution_count": 16,
   "id": "bd417cef",
   "metadata": {},
   "outputs": [
    {
     "data": {
      "text/html": [
       "<pre style=\"white-space:pre;overflow-x:auto;line-height:normal;font-family:Menlo,'DejaVu Sans Mono',consolas,'Courier New',monospace\"><span style=\"font-weight: bold\">Model: \"sequential\"</span>\n",
       "</pre>\n"
      ],
      "text/plain": [
       "\u001b[1mModel: \"sequential\"\u001b[0m\n"
      ]
     },
     "metadata": {},
     "output_type": "display_data"
    },
    {
     "data": {
      "text/html": [
       "<pre style=\"white-space:pre;overflow-x:auto;line-height:normal;font-family:Menlo,'DejaVu Sans Mono',consolas,'Courier New',monospace\">┏━━━━━━━━━━━━━━━━━━━━━━━━━━━━━━━━━┳━━━━━━━━━━━━━━━━━━━━━━━━┳━━━━━━━━━━━━━━━┓\n",
       "┃<span style=\"font-weight: bold\"> Layer (type)                    </span>┃<span style=\"font-weight: bold\"> Output Shape           </span>┃<span style=\"font-weight: bold\">       Param # </span>┃\n",
       "┡━━━━━━━━━━━━━━━━━━━━━━━━━━━━━━━━━╇━━━━━━━━━━━━━━━━━━━━━━━━╇━━━━━━━━━━━━━━━┩\n",
       "│ conv2d (<span style=\"color: #0087ff; text-decoration-color: #0087ff\">Conv2D</span>)                 │ (<span style=\"color: #00d7ff; text-decoration-color: #00d7ff\">None</span>, <span style=\"color: #00af00; text-decoration-color: #00af00\">108</span>, <span style=\"color: #00af00; text-decoration-color: #00af00\">108</span>, <span style=\"color: #00af00; text-decoration-color: #00af00\">32</span>)   │           <span style=\"color: #00af00; text-decoration-color: #00af00\">896</span> │\n",
       "├─────────────────────────────────┼────────────────────────┼───────────────┤\n",
       "│ max_pooling2d (<span style=\"color: #0087ff; text-decoration-color: #0087ff\">MaxPooling2D</span>)    │ (<span style=\"color: #00d7ff; text-decoration-color: #00d7ff\">None</span>, <span style=\"color: #00af00; text-decoration-color: #00af00\">54</span>, <span style=\"color: #00af00; text-decoration-color: #00af00\">54</span>, <span style=\"color: #00af00; text-decoration-color: #00af00\">32</span>)     │             <span style=\"color: #00af00; text-decoration-color: #00af00\">0</span> │\n",
       "├─────────────────────────────────┼────────────────────────┼───────────────┤\n",
       "│ conv2d_1 (<span style=\"color: #0087ff; text-decoration-color: #0087ff\">Conv2D</span>)               │ (<span style=\"color: #00d7ff; text-decoration-color: #00d7ff\">None</span>, <span style=\"color: #00af00; text-decoration-color: #00af00\">52</span>, <span style=\"color: #00af00; text-decoration-color: #00af00\">52</span>, <span style=\"color: #00af00; text-decoration-color: #00af00\">64</span>)     │        <span style=\"color: #00af00; text-decoration-color: #00af00\">18,496</span> │\n",
       "├─────────────────────────────────┼────────────────────────┼───────────────┤\n",
       "│ max_pooling2d_1 (<span style=\"color: #0087ff; text-decoration-color: #0087ff\">MaxPooling2D</span>)  │ (<span style=\"color: #00d7ff; text-decoration-color: #00d7ff\">None</span>, <span style=\"color: #00af00; text-decoration-color: #00af00\">26</span>, <span style=\"color: #00af00; text-decoration-color: #00af00\">26</span>, <span style=\"color: #00af00; text-decoration-color: #00af00\">64</span>)     │             <span style=\"color: #00af00; text-decoration-color: #00af00\">0</span> │\n",
       "├─────────────────────────────────┼────────────────────────┼───────────────┤\n",
       "│ conv2d_2 (<span style=\"color: #0087ff; text-decoration-color: #0087ff\">Conv2D</span>)               │ (<span style=\"color: #00d7ff; text-decoration-color: #00d7ff\">None</span>, <span style=\"color: #00af00; text-decoration-color: #00af00\">24</span>, <span style=\"color: #00af00; text-decoration-color: #00af00\">24</span>, <span style=\"color: #00af00; text-decoration-color: #00af00\">128</span>)    │        <span style=\"color: #00af00; text-decoration-color: #00af00\">73,856</span> │\n",
       "├─────────────────────────────────┼────────────────────────┼───────────────┤\n",
       "│ max_pooling2d_2 (<span style=\"color: #0087ff; text-decoration-color: #0087ff\">MaxPooling2D</span>)  │ (<span style=\"color: #00d7ff; text-decoration-color: #00d7ff\">None</span>, <span style=\"color: #00af00; text-decoration-color: #00af00\">12</span>, <span style=\"color: #00af00; text-decoration-color: #00af00\">12</span>, <span style=\"color: #00af00; text-decoration-color: #00af00\">128</span>)    │             <span style=\"color: #00af00; text-decoration-color: #00af00\">0</span> │\n",
       "├─────────────────────────────────┼────────────────────────┼───────────────┤\n",
       "│ flatten (<span style=\"color: #0087ff; text-decoration-color: #0087ff\">Flatten</span>)               │ (<span style=\"color: #00d7ff; text-decoration-color: #00d7ff\">None</span>, <span style=\"color: #00af00; text-decoration-color: #00af00\">18432</span>)          │             <span style=\"color: #00af00; text-decoration-color: #00af00\">0</span> │\n",
       "├─────────────────────────────────┼────────────────────────┼───────────────┤\n",
       "│ dense (<span style=\"color: #0087ff; text-decoration-color: #0087ff\">Dense</span>)                   │ (<span style=\"color: #00d7ff; text-decoration-color: #00d7ff\">None</span>, <span style=\"color: #00af00; text-decoration-color: #00af00\">128</span>)            │     <span style=\"color: #00af00; text-decoration-color: #00af00\">2,359,424</span> │\n",
       "├─────────────────────────────────┼────────────────────────┼───────────────┤\n",
       "│ dense_1 (<span style=\"color: #0087ff; text-decoration-color: #0087ff\">Dense</span>)                 │ (<span style=\"color: #00d7ff; text-decoration-color: #00d7ff\">None</span>, <span style=\"color: #00af00; text-decoration-color: #00af00\">4</span>)              │           <span style=\"color: #00af00; text-decoration-color: #00af00\">516</span> │\n",
       "└─────────────────────────────────┴────────────────────────┴───────────────┘\n",
       "</pre>\n"
      ],
      "text/plain": [
       "┏━━━━━━━━━━━━━━━━━━━━━━━━━━━━━━━━━┳━━━━━━━━━━━━━━━━━━━━━━━━┳━━━━━━━━━━━━━━━┓\n",
       "┃\u001b[1m \u001b[0m\u001b[1mLayer (type)                   \u001b[0m\u001b[1m \u001b[0m┃\u001b[1m \u001b[0m\u001b[1mOutput Shape          \u001b[0m\u001b[1m \u001b[0m┃\u001b[1m \u001b[0m\u001b[1m      Param #\u001b[0m\u001b[1m \u001b[0m┃\n",
       "┡━━━━━━━━━━━━━━━━━━━━━━━━━━━━━━━━━╇━━━━━━━━━━━━━━━━━━━━━━━━╇━━━━━━━━━━━━━━━┩\n",
       "│ conv2d (\u001b[38;5;33mConv2D\u001b[0m)                 │ (\u001b[38;5;45mNone\u001b[0m, \u001b[38;5;34m108\u001b[0m, \u001b[38;5;34m108\u001b[0m, \u001b[38;5;34m32\u001b[0m)   │           \u001b[38;5;34m896\u001b[0m │\n",
       "├─────────────────────────────────┼────────────────────────┼───────────────┤\n",
       "│ max_pooling2d (\u001b[38;5;33mMaxPooling2D\u001b[0m)    │ (\u001b[38;5;45mNone\u001b[0m, \u001b[38;5;34m54\u001b[0m, \u001b[38;5;34m54\u001b[0m, \u001b[38;5;34m32\u001b[0m)     │             \u001b[38;5;34m0\u001b[0m │\n",
       "├─────────────────────────────────┼────────────────────────┼───────────────┤\n",
       "│ conv2d_1 (\u001b[38;5;33mConv2D\u001b[0m)               │ (\u001b[38;5;45mNone\u001b[0m, \u001b[38;5;34m52\u001b[0m, \u001b[38;5;34m52\u001b[0m, \u001b[38;5;34m64\u001b[0m)     │        \u001b[38;5;34m18,496\u001b[0m │\n",
       "├─────────────────────────────────┼────────────────────────┼───────────────┤\n",
       "│ max_pooling2d_1 (\u001b[38;5;33mMaxPooling2D\u001b[0m)  │ (\u001b[38;5;45mNone\u001b[0m, \u001b[38;5;34m26\u001b[0m, \u001b[38;5;34m26\u001b[0m, \u001b[38;5;34m64\u001b[0m)     │             \u001b[38;5;34m0\u001b[0m │\n",
       "├─────────────────────────────────┼────────────────────────┼───────────────┤\n",
       "│ conv2d_2 (\u001b[38;5;33mConv2D\u001b[0m)               │ (\u001b[38;5;45mNone\u001b[0m, \u001b[38;5;34m24\u001b[0m, \u001b[38;5;34m24\u001b[0m, \u001b[38;5;34m128\u001b[0m)    │        \u001b[38;5;34m73,856\u001b[0m │\n",
       "├─────────────────────────────────┼────────────────────────┼───────────────┤\n",
       "│ max_pooling2d_2 (\u001b[38;5;33mMaxPooling2D\u001b[0m)  │ (\u001b[38;5;45mNone\u001b[0m, \u001b[38;5;34m12\u001b[0m, \u001b[38;5;34m12\u001b[0m, \u001b[38;5;34m128\u001b[0m)    │             \u001b[38;5;34m0\u001b[0m │\n",
       "├─────────────────────────────────┼────────────────────────┼───────────────┤\n",
       "│ flatten (\u001b[38;5;33mFlatten\u001b[0m)               │ (\u001b[38;5;45mNone\u001b[0m, \u001b[38;5;34m18432\u001b[0m)          │             \u001b[38;5;34m0\u001b[0m │\n",
       "├─────────────────────────────────┼────────────────────────┼───────────────┤\n",
       "│ dense (\u001b[38;5;33mDense\u001b[0m)                   │ (\u001b[38;5;45mNone\u001b[0m, \u001b[38;5;34m128\u001b[0m)            │     \u001b[38;5;34m2,359,424\u001b[0m │\n",
       "├─────────────────────────────────┼────────────────────────┼───────────────┤\n",
       "│ dense_1 (\u001b[38;5;33mDense\u001b[0m)                 │ (\u001b[38;5;45mNone\u001b[0m, \u001b[38;5;34m4\u001b[0m)              │           \u001b[38;5;34m516\u001b[0m │\n",
       "└─────────────────────────────────┴────────────────────────┴───────────────┘\n"
      ]
     },
     "metadata": {},
     "output_type": "display_data"
    },
    {
     "data": {
      "text/html": [
       "<pre style=\"white-space:pre;overflow-x:auto;line-height:normal;font-family:Menlo,'DejaVu Sans Mono',consolas,'Courier New',monospace\"><span style=\"font-weight: bold\"> Total params: </span><span style=\"color: #00af00; text-decoration-color: #00af00\">2,453,188</span> (9.36 MB)\n",
       "</pre>\n"
      ],
      "text/plain": [
       "\u001b[1m Total params: \u001b[0m\u001b[38;5;34m2,453,188\u001b[0m (9.36 MB)\n"
      ]
     },
     "metadata": {},
     "output_type": "display_data"
    },
    {
     "data": {
      "text/html": [
       "<pre style=\"white-space:pre;overflow-x:auto;line-height:normal;font-family:Menlo,'DejaVu Sans Mono',consolas,'Courier New',monospace\"><span style=\"font-weight: bold\"> Trainable params: </span><span style=\"color: #00af00; text-decoration-color: #00af00\">2,453,188</span> (9.36 MB)\n",
       "</pre>\n"
      ],
      "text/plain": [
       "\u001b[1m Trainable params: \u001b[0m\u001b[38;5;34m2,453,188\u001b[0m (9.36 MB)\n"
      ]
     },
     "metadata": {},
     "output_type": "display_data"
    },
    {
     "data": {
      "text/html": [
       "<pre style=\"white-space:pre;overflow-x:auto;line-height:normal;font-family:Menlo,'DejaVu Sans Mono',consolas,'Courier New',monospace\"><span style=\"font-weight: bold\"> Non-trainable params: </span><span style=\"color: #00af00; text-decoration-color: #00af00\">0</span> (0.00 B)\n",
       "</pre>\n"
      ],
      "text/plain": [
       "\u001b[1m Non-trainable params: \u001b[0m\u001b[38;5;34m0\u001b[0m (0.00 B)\n"
      ]
     },
     "metadata": {},
     "output_type": "display_data"
    }
   ],
   "source": [
    "model.summary()"
   ]
  },
  {
   "cell_type": "code",
   "execution_count": 17,
   "id": "33c7d1e1",
   "metadata": {},
   "outputs": [],
   "source": [
    "model.compile(optimizer='adam',loss='sparse_categorical_crossentropy',metrics=['accuracy'])"
   ]
  },
  {
   "cell_type": "code",
   "execution_count": 18,
   "id": "3a1e3e96",
   "metadata": {},
   "outputs": [
    {
     "name": "stdout",
     "output_type": "stream",
     "text": [
      "Epoch 1/13\n",
      "\u001b[1m16/16\u001b[0m \u001b[32m━━━━━━━━━━━━━━━━━━━━\u001b[0m\u001b[37m\u001b[0m \u001b[1m12s\u001b[0m 460ms/step - accuracy: 0.2810 - loss: 1.3891 - val_accuracy: 0.3984 - val_loss: 1.2226\n",
      "Epoch 2/13\n",
      "\u001b[1m16/16\u001b[0m \u001b[32m━━━━━━━━━━━━━━━━━━━━\u001b[0m\u001b[37m\u001b[0m \u001b[1m7s\u001b[0m 418ms/step - accuracy: 0.5416 - loss: 1.0456 - val_accuracy: 0.6341 - val_loss: 0.8787\n",
      "Epoch 3/13\n",
      "\u001b[1m16/16\u001b[0m \u001b[32m━━━━━━━━━━━━━━━━━━━━\u001b[0m\u001b[37m\u001b[0m \u001b[1m6s\u001b[0m 382ms/step - accuracy: 0.7698 - loss: 0.6135 - val_accuracy: 0.7480 - val_loss: 0.8464\n",
      "Epoch 4/13\n",
      "\u001b[1m16/16\u001b[0m \u001b[32m━━━━━━━━━━━━━━━━━━━━\u001b[0m\u001b[37m\u001b[0m \u001b[1m6s\u001b[0m 389ms/step - accuracy: 0.8387 - loss: 0.4528 - val_accuracy: 0.7398 - val_loss: 0.6082\n",
      "Epoch 5/13\n",
      "\u001b[1m16/16\u001b[0m \u001b[32m━━━━━━━━━━━━━━━━━━━━\u001b[0m\u001b[37m\u001b[0m \u001b[1m6s\u001b[0m 393ms/step - accuracy: 0.8641 - loss: 0.3663 - val_accuracy: 0.8374 - val_loss: 0.5105\n",
      "Epoch 6/13\n",
      "\u001b[1m16/16\u001b[0m \u001b[32m━━━━━━━━━━━━━━━━━━━━\u001b[0m\u001b[37m\u001b[0m \u001b[1m6s\u001b[0m 377ms/step - accuracy: 0.9394 - loss: 0.2209 - val_accuracy: 0.8618 - val_loss: 0.6008\n",
      "Epoch 7/13\n",
      "\u001b[1m16/16\u001b[0m \u001b[32m━━━━━━━━━━━━━━━━━━━━\u001b[0m\u001b[37m\u001b[0m \u001b[1m6s\u001b[0m 396ms/step - accuracy: 0.9554 - loss: 0.1299 - val_accuracy: 0.8455 - val_loss: 0.4525\n",
      "Epoch 8/13\n",
      "\u001b[1m16/16\u001b[0m \u001b[32m━━━━━━━━━━━━━━━━━━━━\u001b[0m\u001b[37m\u001b[0m \u001b[1m6s\u001b[0m 371ms/step - accuracy: 0.9639 - loss: 0.1209 - val_accuracy: 0.8293 - val_loss: 0.5362\n",
      "Epoch 9/13\n",
      "\u001b[1m16/16\u001b[0m \u001b[32m━━━━━━━━━━━━━━━━━━━━\u001b[0m\u001b[37m\u001b[0m \u001b[1m6s\u001b[0m 389ms/step - accuracy: 0.9763 - loss: 0.0779 - val_accuracy: 0.8862 - val_loss: 0.5172\n",
      "Epoch 10/13\n",
      "\u001b[1m16/16\u001b[0m \u001b[32m━━━━━━━━━━━━━━━━━━━━\u001b[0m\u001b[37m\u001b[0m \u001b[1m6s\u001b[0m 388ms/step - accuracy: 0.9883 - loss: 0.0478 - val_accuracy: 0.8780 - val_loss: 0.4980\n",
      "Epoch 11/13\n",
      "\u001b[1m16/16\u001b[0m \u001b[32m━━━━━━━━━━━━━━━━━━━━\u001b[0m\u001b[37m\u001b[0m \u001b[1m6s\u001b[0m 371ms/step - accuracy: 0.9865 - loss: 0.0422 - val_accuracy: 0.8618 - val_loss: 0.7321\n",
      "Epoch 12/13\n",
      "\u001b[1m16/16\u001b[0m \u001b[32m━━━━━━━━━━━━━━━━━━━━\u001b[0m\u001b[37m\u001b[0m \u001b[1m6s\u001b[0m 393ms/step - accuracy: 0.9837 - loss: 0.0721 - val_accuracy: 0.8537 - val_loss: 0.6518\n",
      "Epoch 13/13\n",
      "\u001b[1m16/16\u001b[0m \u001b[32m━━━━━━━━━━━━━━━━━━━━\u001b[0m\u001b[37m\u001b[0m \u001b[1m6s\u001b[0m 387ms/step - accuracy: 0.9956 - loss: 0.0584 - val_accuracy: 0.8699 - val_loss: 0.7992\n"
     ]
    },
    {
     "data": {
      "text/plain": [
       "<keras.src.callbacks.history.History at 0x263c0830b30>"
      ]
     },
     "execution_count": 18,
     "metadata": {},
     "output_type": "execute_result"
    }
   ],
   "source": [
    "model.fit(xtrain,ytrain,batch_size=32,epochs=13,validation_data=(xtest,ytest))"
   ]
  },
  {
   "cell_type": "code",
   "execution_count": 140,
   "id": "f2063cfe",
   "metadata": {},
   "outputs": [
    {
     "name": "stdout",
     "output_type": "stream",
     "text": [
      "(1, 110, 110, 3)\n"
     ]
    }
   ],
   "source": [
    "test_path=r\"D:\\Singularis DL\\dl\\Lungs Data\\valid\\adenocarcinoma_left.lower.lobe_T2_N0_M0_Ib\\000117.png\"\n",
    "array=cv2.imread(test_path)\n",
    "array_resize=cv2.resize(array,(110,110))\n",
    "array_reshape=array_resize.reshape(1,110,110,3)\n",
    "array_norm=array_reshape/255\n",
    "print(array_norm.shape)"
   ]
  },
  {
   "cell_type": "code",
   "execution_count": 142,
   "id": "6bb6684d",
   "metadata": {},
   "outputs": [
    {
     "name": "stdout",
     "output_type": "stream",
     "text": [
      "\u001b[1m1/1\u001b[0m \u001b[32m━━━━━━━━━━━━━━━━━━━━\u001b[0m\u001b[37m\u001b[0m \u001b[1m0s\u001b[0m 59ms/step\n"
     ]
    },
    {
     "data": {
      "text/plain": [
       "array([[9.9772292e-01, 7.9461309e-04, 8.3303252e-07, 1.4815988e-03]],\n",
       "      dtype=float32)"
      ]
     },
     "execution_count": 142,
     "metadata": {},
     "output_type": "execute_result"
    }
   ],
   "source": [
    "a=model.predict(array_norm)\n",
    "a"
   ]
  },
  {
   "cell_type": "code",
   "execution_count": 144,
   "id": "7b22e405",
   "metadata": {},
   "outputs": [
    {
     "data": {
      "text/plain": [
       "0"
      ]
     },
     "execution_count": 144,
     "metadata": {},
     "output_type": "execute_result"
    }
   ],
   "source": [
    "a=np.argmax(a)\n",
    "a"
   ]
  },
  {
   "cell_type": "code",
   "execution_count": 146,
   "id": "6a9e1bef",
   "metadata": {},
   "outputs": [
    {
     "data": {
      "text/plain": [
       "'Adenocarcinoma'"
      ]
     },
     "execution_count": 146,
     "metadata": {},
     "output_type": "execute_result"
    }
   ],
   "source": [
    "l=['Adenocarcinoma', 'Large Cell Carcinoma', 'Normal (non-cancerous scans)', 'Squamous Cell Carcinoma']\n",
    "l[a]"
   ]
  },
  {
   "cell_type": "code",
   "execution_count": 176,
   "id": "9213e770",
   "metadata": {},
   "outputs": [
    {
     "name": "stdout",
     "output_type": "stream",
     "text": [
      "(1, 110, 110, 3)\n"
     ]
    }
   ],
   "source": [
    "test_path=r\"D:\\Singularis DL\\dl\\Lungs Data\\valid\\large.cell.carcinoma_left.hilum_T2_N2_M0_IIIa\\000114.png\"\n",
    "array=cv2.imread(test_path)\n",
    "array_resize=cv2.resize(array,(110,110))\n",
    "array_reshape=array_resize.reshape(1,110,110,3)\n",
    "array_norm=array_reshape/255\n",
    "print(array_norm.shape)"
   ]
  },
  {
   "cell_type": "code",
   "execution_count": 178,
   "id": "5aabafcd",
   "metadata": {},
   "outputs": [
    {
     "name": "stdout",
     "output_type": "stream",
     "text": [
      "\u001b[1m1/1\u001b[0m \u001b[32m━━━━━━━━━━━━━━━━━━━━\u001b[0m\u001b[37m\u001b[0m \u001b[1m0s\u001b[0m 51ms/step\n"
     ]
    },
    {
     "data": {
      "text/plain": [
       "array([[2.5315378e-03, 8.2405549e-01, 1.3768655e-05, 1.7339927e-01]],\n",
       "      dtype=float32)"
      ]
     },
     "execution_count": 178,
     "metadata": {},
     "output_type": "execute_result"
    }
   ],
   "source": [
    "a=model.predict(array_norm)\n",
    "a"
   ]
  },
  {
   "cell_type": "code",
   "execution_count": 180,
   "id": "4428b21e",
   "metadata": {},
   "outputs": [
    {
     "data": {
      "text/plain": [
       "1"
      ]
     },
     "execution_count": 180,
     "metadata": {},
     "output_type": "execute_result"
    }
   ],
   "source": [
    "a=np.argmax(a)\n",
    "a"
   ]
  },
  {
   "cell_type": "code",
   "execution_count": 182,
   "id": "82f55e28",
   "metadata": {},
   "outputs": [
    {
     "data": {
      "text/plain": [
       "'Large Cell Carcinoma'"
      ]
     },
     "execution_count": 182,
     "metadata": {},
     "output_type": "execute_result"
    }
   ],
   "source": [
    "l=['Adenocarcinoma', 'Large Cell Carcinoma', 'Normal (non-cancerous scans)', 'Squamous Cell Carcinoma']\n",
    "l[a]"
   ]
  },
  {
   "cell_type": "code",
   "execution_count": 184,
   "id": "f9c7bbc6",
   "metadata": {},
   "outputs": [
    {
     "name": "stdout",
     "output_type": "stream",
     "text": [
      "(1, 110, 110, 3)\n"
     ]
    }
   ],
   "source": [
    "test_path=r\"D:\\Singularis DL\\dl\\Lungs Data\\test\\normal\\10.png\"\n",
    "array=cv2.imread(test_path)\n",
    "array_resize=cv2.resize(array,(110,110))\n",
    "array_reshape=array_resize.reshape(1,110,110,3)\n",
    "array_norm=array_reshape/255\n",
    "print(array_norm.shape)"
   ]
  },
  {
   "cell_type": "code",
   "execution_count": 186,
   "id": "86aacded",
   "metadata": {},
   "outputs": [
    {
     "name": "stdout",
     "output_type": "stream",
     "text": [
      "\u001b[1m1/1\u001b[0m \u001b[32m━━━━━━━━━━━━━━━━━━━━\u001b[0m\u001b[37m\u001b[0m \u001b[1m0s\u001b[0m 56ms/step\n"
     ]
    },
    {
     "data": {
      "text/plain": [
       "array([[7.5354583e-05, 3.5862269e-10, 9.9991071e-01, 1.3905379e-05]],\n",
       "      dtype=float32)"
      ]
     },
     "execution_count": 186,
     "metadata": {},
     "output_type": "execute_result"
    }
   ],
   "source": [
    "a=model.predict(array_norm)\n",
    "a"
   ]
  },
  {
   "cell_type": "code",
   "execution_count": 188,
   "id": "09801d5b",
   "metadata": {},
   "outputs": [
    {
     "data": {
      "text/plain": [
       "2"
      ]
     },
     "execution_count": 188,
     "metadata": {},
     "output_type": "execute_result"
    }
   ],
   "source": [
    "a=np.argmax(a)\n",
    "a"
   ]
  },
  {
   "cell_type": "code",
   "execution_count": 190,
   "id": "cbf2fa74",
   "metadata": {},
   "outputs": [
    {
     "data": {
      "text/plain": [
       "'Normal (non-cancerous scans)'"
      ]
     },
     "execution_count": 190,
     "metadata": {},
     "output_type": "execute_result"
    }
   ],
   "source": [
    "l=['Adenocarcinoma', 'Large Cell Carcinoma', 'Normal (non-cancerous scans)', 'Squamous Cell Carcinoma']\n",
    "l[a]"
   ]
  },
  {
   "cell_type": "code",
   "execution_count": 192,
   "id": "c65e0bc3",
   "metadata": {},
   "outputs": [
    {
     "name": "stdout",
     "output_type": "stream",
     "text": [
      "(1, 110, 110, 3)\n"
     ]
    }
   ],
   "source": [
    "test_path=r\"D:\\Singularis DL\\dl\\Lungs Data\\test\\squamous.cell.carcinoma\\000146 (6).png\"\n",
    "array=cv2.imread(test_path)\n",
    "array_resize=cv2.resize(array,(110,110))\n",
    "array_reshape=array_resize.reshape(1,110,110,3)\n",
    "array_norm=array_reshape/255\n",
    "print(array_norm.shape)"
   ]
  },
  {
   "cell_type": "code",
   "execution_count": 194,
   "id": "bc56d9cf-e418-457b-87a2-edb3e2323e86",
   "metadata": {},
   "outputs": [
    {
     "name": "stdout",
     "output_type": "stream",
     "text": [
      "\u001b[1m1/1\u001b[0m \u001b[32m━━━━━━━━━━━━━━━━━━━━\u001b[0m\u001b[37m\u001b[0m \u001b[1m0s\u001b[0m 55ms/step\n"
     ]
    },
    {
     "data": {
      "text/plain": [
       "array([[1.7217197e-08, 1.3658035e-08, 7.3019414e-06, 9.9999273e-01]],\n",
       "      dtype=float32)"
      ]
     },
     "execution_count": 194,
     "metadata": {},
     "output_type": "execute_result"
    }
   ],
   "source": [
    "a=model.predict(array_norm)\n",
    "a"
   ]
  },
  {
   "cell_type": "code",
   "execution_count": 196,
   "id": "d0583db3",
   "metadata": {},
   "outputs": [
    {
     "data": {
      "text/plain": [
       "3"
      ]
     },
     "execution_count": 196,
     "metadata": {},
     "output_type": "execute_result"
    }
   ],
   "source": [
    "a=np.argmax(a)\n",
    "a"
   ]
  },
  {
   "cell_type": "code",
   "execution_count": 198,
   "id": "330c8911",
   "metadata": {},
   "outputs": [
    {
     "data": {
      "text/plain": [
       "'Squamous Cell Carcinoma'"
      ]
     },
     "execution_count": 198,
     "metadata": {},
     "output_type": "execute_result"
    }
   ],
   "source": [
    "l=['Adenocarcinoma', 'Large Cell Carcinoma', 'Normal (non-cancerous scans)', 'Squamous Cell Carcinoma']\n",
    "l[a]"
   ]
  },
  {
   "cell_type": "code",
   "execution_count": 200,
   "id": "e64f6898-eca9-4c3c-8784-c78b63dd9b9f",
   "metadata": {},
   "outputs": [
    {
     "name": "stdout",
     "output_type": "stream",
     "text": [
      "(None, 110, 110, 3)\n"
     ]
    }
   ],
   "source": [
    "print(model.input_shape)"
   ]
  },
  {
   "cell_type": "code",
   "execution_count": 202,
   "id": "4c9c3e5b-ac7a-4c66-92f9-2beb8dcaad2c",
   "metadata": {
    "scrolled": true
   },
   "outputs": [
    {
     "name": "stdout",
     "output_type": "stream",
     "text": [
      "\u001b[1m4/4\u001b[0m \u001b[32m━━━━━━━━━━━━━━━━━━━━\u001b[0m\u001b[37m\u001b[0m \u001b[1m0s\u001b[0m 102ms/step\n"
     ]
    },
    {
     "data": {
      "text/plain": [
       "array([[9.95947182e-01, 2.06020632e-05, 4.55491218e-08, 4.03220113e-03],\n",
       "       [1.39718852e-03, 2.19032543e-07, 1.63707796e-06, 9.98600900e-01],\n",
       "       [2.52696988e-03, 9.91804361e-01, 3.04185948e-03, 2.62680463e-03],\n",
       "       [9.98190820e-01, 1.03188577e-05, 1.28215584e-06, 1.79760624e-03],\n",
       "       [1.40361302e-03, 8.45058021e-05, 9.62390368e-06, 9.98502254e-01],\n",
       "       [1.40268365e-02, 9.80390251e-01, 4.12431064e-06, 5.57886576e-03],\n",
       "       [7.88908892e-06, 1.88406534e-06, 1.30658364e-07, 9.99990106e-01],\n",
       "       [9.99878645e-01, 6.28057535e-07, 1.27165708e-06, 1.19351578e-04],\n",
       "       [9.31854069e-04, 9.99067843e-01, 2.14517470e-09, 3.42054420e-07],\n",
       "       [1.10515032e-03, 9.27993824e-05, 9.98309374e-01, 4.92730935e-04],\n",
       "       [8.88860345e-01, 2.33755381e-05, 1.76694273e-04, 1.10939562e-01],\n",
       "       [3.44213930e-07, 3.82097088e-12, 9.99999285e-01, 3.38767137e-07],\n",
       "       [9.98164952e-01, 6.65063271e-04, 5.00651936e-07, 1.16952707e-03],\n",
       "       [1.55991653e-03, 1.18191620e-05, 2.14719876e-06, 9.98426199e-01],\n",
       "       [1.03488628e-05, 2.49121861e-08, 7.96797514e-01, 2.03192070e-01],\n",
       "       [9.38462257e-01, 2.56549171e-03, 6.56813381e-06, 5.89656681e-02],\n",
       "       [2.51522392e-01, 1.28664586e-04, 7.43574202e-01, 4.77468036e-03],\n",
       "       [1.01191755e-02, 3.14597622e-03, 2.09498867e-05, 9.86713827e-01],\n",
       "       [1.15366215e-02, 8.76753211e-01, 2.97021925e-05, 1.11680537e-01],\n",
       "       [1.09372486e-04, 3.72684258e-06, 1.36127213e-07, 9.99886751e-01],\n",
       "       [1.57831993e-04, 3.29338061e-03, 6.19105180e-04, 9.95929658e-01],\n",
       "       [2.03257514e-06, 1.78720666e-06, 9.09063402e-08, 9.99996066e-01],\n",
       "       [8.77436936e-01, 3.34718061e-04, 8.04281353e-06, 1.22220285e-01],\n",
       "       [5.37125394e-03, 4.68231792e-06, 7.21807751e-08, 9.94624078e-01],\n",
       "       [3.13982150e-06, 4.48627532e-07, 2.85702799e-06, 9.99993563e-01],\n",
       "       [9.99998331e-01, 1.35812437e-08, 9.86298005e-07, 6.87648651e-07],\n",
       "       [8.36706631e-20, 1.65194987e-24, 1.00000000e+00, 1.05342608e-15],\n",
       "       [5.07559814e-02, 1.39139523e-03, 9.46760654e-01, 1.09191018e-03],\n",
       "       [8.24484050e-01, 3.33856122e-04, 6.37571374e-03, 1.68806404e-01],\n",
       "       [3.13079685e-01, 6.33354247e-01, 2.86373164e-04, 5.32796867e-02],\n",
       "       [9.27403220e-04, 4.71960026e-04, 8.97928476e-05, 9.98510778e-01],\n",
       "       [9.99587715e-01, 2.99640451e-05, 1.97265792e-04, 1.85152254e-04],\n",
       "       [1.69699211e-02, 9.14548524e-04, 3.20457708e-04, 9.81795013e-01],\n",
       "       [1.77772120e-02, 3.89153247e-05, 1.60339754e-04, 9.82023537e-01],\n",
       "       [9.98559654e-01, 1.09778345e-03, 4.93256193e-05, 2.93323945e-04],\n",
       "       [8.44840050e-01, 3.82813136e-03, 6.44761662e-04, 1.50687069e-01],\n",
       "       [9.99537945e-01, 2.29015015e-04, 2.75856382e-05, 2.05466727e-04],\n",
       "       [5.43918349e-02, 3.90863061e-05, 6.42578425e-06, 9.45562601e-01],\n",
       "       [1.74083543e-11, 6.22124979e-18, 9.99999881e-01, 1.62356471e-07],\n",
       "       [1.51243573e-03, 3.33798447e-08, 9.98430908e-01, 5.65990304e-05],\n",
       "       [9.93337750e-01, 2.46342301e-04, 1.32604851e-03, 5.08990418e-03],\n",
       "       [7.99566150e-01, 1.83980528e-03, 1.62422875e-04, 1.98431611e-01],\n",
       "       [9.99238133e-01, 5.93037345e-04, 2.34317849e-05, 1.45348196e-04],\n",
       "       [1.51243573e-03, 3.33798447e-08, 9.98430908e-01, 5.65990304e-05],\n",
       "       [9.94383454e-01, 6.87951469e-05, 2.37959302e-05, 5.52387023e-03],\n",
       "       [1.51243573e-03, 3.33798447e-08, 9.98430908e-01, 5.65990304e-05],\n",
       "       [2.55570747e-02, 5.54226681e-05, 3.34959282e-07, 9.74387109e-01],\n",
       "       [2.16800661e-04, 2.76057562e-03, 6.13704924e-06, 9.97016430e-01],\n",
       "       [6.08972750e-21, 1.00185221e-22, 1.00000000e+00, 2.63534190e-08],\n",
       "       [1.46858089e-04, 5.27884868e-06, 5.13662606e-08, 9.99847770e-01],\n",
       "       [2.08925735e-03, 2.45002797e-04, 9.97996835e-07, 9.97664809e-01],\n",
       "       [1.60281826e-03, 2.72810333e-12, 9.98119295e-01, 2.77773768e-04],\n",
       "       [7.57302274e-04, 2.68107742e-05, 2.32418915e-06, 9.99213576e-01],\n",
       "       [1.62459277e-02, 2.24488940e-05, 2.79944152e-06, 9.83728826e-01],\n",
       "       [9.98031437e-01, 1.75631823e-04, 2.87002649e-07, 1.79272972e-03],\n",
       "       [1.47196688e-02, 8.26649114e-07, 4.82326686e-06, 9.85274673e-01],\n",
       "       [2.92531867e-03, 4.60223127e-05, 1.20760733e-05, 9.97016668e-01],\n",
       "       [1.35370623e-03, 1.38407668e-05, 1.16837409e-05, 9.98620749e-01],\n",
       "       [9.90457118e-01, 5.05550019e-03, 2.70330656e-06, 4.48472612e-03],\n",
       "       [7.75391936e-01, 1.03287038e-03, 1.70537649e-04, 2.23404661e-01],\n",
       "       [1.39294341e-01, 8.58409166e-01, 1.80998341e-05, 2.27842457e-03],\n",
       "       [1.67022526e-01, 2.21884670e-03, 8.28711748e-01, 2.04687216e-03],\n",
       "       [7.75519758e-02, 8.99789393e-01, 1.72842512e-04, 2.24858429e-02],\n",
       "       [9.86995026e-02, 8.97720397e-01, 1.08001450e-05, 3.56930494e-03],\n",
       "       [9.76438522e-01, 6.68627836e-05, 2.17253119e-02, 1.76919461e-03],\n",
       "       [3.47210738e-24, 6.50942566e-26, 1.00000000e+00, 2.07196931e-13],\n",
       "       [2.05629557e-01, 6.45653517e-06, 2.48931246e-05, 7.94339120e-01],\n",
       "       [9.87009525e-01, 4.11560386e-03, 3.60619451e-04, 8.51416215e-03],\n",
       "       [5.68953156e-01, 3.76164854e-01, 3.85352713e-03, 5.10284118e-02],\n",
       "       [9.58286047e-01, 5.03966985e-05, 7.94093467e-06, 4.16555926e-02],\n",
       "       [8.76564241e-04, 6.32193689e-07, 1.56294433e-07, 9.99122679e-01],\n",
       "       [9.97410953e-01, 9.30440510e-05, 8.69094220e-06, 2.48739496e-03],\n",
       "       [6.34063082e-03, 1.21996090e-04, 3.38961181e-05, 9.93503511e-01],\n",
       "       [9.88577247e-01, 2.66688203e-05, 1.61442349e-05, 1.13799470e-02],\n",
       "       [1.74870602e-30, 2.42717146e-30, 1.00000000e+00, 4.09681570e-22],\n",
       "       [2.28730440e-02, 2.07382600e-05, 3.80970914e-06, 9.77102399e-01],\n",
       "       [1.56771057e-05, 3.59523510e-05, 2.59135419e-07, 9.99948025e-01],\n",
       "       [7.50346184e-01, 7.34341302e-05, 3.75413365e-05, 2.49542758e-01],\n",
       "       [2.92924885e-02, 1.03355786e-02, 2.79828534e-03, 9.57573593e-01],\n",
       "       [9.03857381e-06, 5.71864291e-07, 1.43637081e-07, 9.99990225e-01],\n",
       "       [1.74083543e-11, 6.22124979e-18, 9.99999881e-01, 1.62356471e-07],\n",
       "       [6.24055392e-05, 1.17905409e-04, 3.10205820e-07, 9.99819458e-01],\n",
       "       [8.40758905e-03, 4.59390285e-04, 9.91131604e-01, 1.36715380e-06],\n",
       "       [8.28990281e-01, 1.66889792e-03, 1.53712579e-04, 1.69187143e-01],\n",
       "       [1.00070165e-05, 9.99986649e-01, 3.15459054e-08, 3.36922358e-06],\n",
       "       [8.11233044e-01, 1.57074600e-01, 1.09731072e-05, 3.16814110e-02],\n",
       "       [9.98639047e-01, 4.55224040e-07, 2.16801599e-09, 1.36043236e-03],\n",
       "       [9.92086716e-04, 9.98718977e-01, 4.49421500e-10, 2.88895448e-04],\n",
       "       [9.85863388e-01, 9.60308284e-07, 8.25472853e-06, 1.41274836e-02],\n",
       "       [9.80415463e-01, 3.79436060e-05, 5.81239292e-05, 1.94885340e-02],\n",
       "       [7.74111331e-11, 3.50772634e-13, 9.99679804e-01, 3.20172490e-04],\n",
       "       [9.53087270e-01, 4.90491744e-03, 2.24197521e-07, 4.20076437e-02],\n",
       "       [4.35913280e-05, 3.02521774e-04, 2.94325241e-06, 9.99650955e-01],\n",
       "       [9.99810040e-01, 1.75192599e-05, 7.89800288e-06, 1.64556972e-04],\n",
       "       [1.71791539e-01, 1.45485839e-02, 7.25504578e-05, 8.13587368e-01],\n",
       "       [1.40989556e-07, 1.96156669e-09, 1.72094758e-06, 9.99998093e-01],\n",
       "       [9.81599629e-01, 3.53165640e-04, 3.07023962e-04, 1.77401453e-02],\n",
       "       [5.29714301e-03, 9.93655801e-01, 7.94298921e-06, 1.03913888e-03],\n",
       "       [6.33800994e-08, 6.33214252e-14, 9.99999881e-01, 2.13693976e-11],\n",
       "       [6.54206497e-06, 1.50449068e-05, 2.88054082e-07, 9.99978185e-01],\n",
       "       [5.45209460e-03, 7.39230672e-05, 9.92644668e-01, 1.82934396e-03],\n",
       "       [4.32716236e-02, 9.49525535e-01, 2.31289414e-05, 7.17965700e-03],\n",
       "       [1.95899234e-11, 6.46207184e-18, 9.99999881e-01, 1.62103674e-07],\n",
       "       [9.99626279e-01, 3.65298115e-06, 4.40672084e-05, 3.25947243e-04],\n",
       "       [7.53636042e-12, 6.62850647e-14, 9.53412235e-01, 4.65878211e-02],\n",
       "       [6.29974153e-08, 9.24151988e-12, 9.99999404e-01, 4.37102756e-07],\n",
       "       [8.62094522e-01, 1.90193835e-03, 1.51889162e-05, 1.35988370e-01],\n",
       "       [3.33301054e-04, 1.20935554e-04, 4.28089422e-08, 9.99545634e-01],\n",
       "       [3.77944496e-04, 1.61346197e-05, 5.77882065e-06, 9.99600232e-01],\n",
       "       [3.08065917e-02, 3.90203895e-05, 9.68751729e-01, 4.02760372e-04],\n",
       "       [9.93423462e-01, 8.86019862e-08, 3.76697429e-08, 6.57642679e-03],\n",
       "       [1.86511561e-01, 5.58982829e-05, 6.22089146e-06, 8.13426316e-01],\n",
       "       [4.02805335e-06, 3.33014206e-11, 9.99985218e-01, 1.06750349e-05],\n",
       "       [7.21599499e-04, 3.70287934e-09, 9.99186695e-01, 9.17704820e-05],\n",
       "       [4.06352639e-01, 1.15365908e-03, 9.27210658e-06, 5.92484415e-01],\n",
       "       [9.99974489e-01, 1.47869031e-07, 6.69634703e-09, 2.53679627e-05],\n",
       "       [6.16444074e-24, 1.04060519e-23, 1.00000000e+00, 1.13343332e-16],\n",
       "       [9.72832263e-01, 4.19845634e-07, 1.92048361e-07, 2.71670427e-02],\n",
       "       [6.54480159e-01, 1.16444263e-03, 9.40462996e-06, 3.44345987e-01],\n",
       "       [1.20566469e-02, 4.21083823e-05, 3.00308038e-05, 9.87871170e-01],\n",
       "       [5.86239388e-04, 2.77461158e-03, 1.92674889e-07, 9.96638894e-01],\n",
       "       [9.98932302e-01, 1.60958269e-04, 2.12429813e-06, 9.04576271e-04],\n",
       "       [4.86411750e-02, 8.57652903e-01, 1.33256370e-04, 9.35726985e-02]],\n",
       "      dtype=float32)"
      ]
     },
     "execution_count": 202,
     "metadata": {},
     "output_type": "execute_result"
    }
   ],
   "source": [
    "ypred = model.predict(xtest)\n",
    "ypred"
   ]
  },
  {
   "cell_type": "code",
   "execution_count": 204,
   "id": "cb1b2344",
   "metadata": {},
   "outputs": [
    {
     "name": "stdout",
     "output_type": "stream",
     "text": [
      "[0, 3, 1, 0, 3, 1, 3, 0, 1, 2, 0, 2, 0, 3, 2, 0, 2, 3, 1, 3, 3, 3, 0, 3, 3, 0, 2, 2, 0, 1, 3, 0, 3, 3, 0, 0, 0, 3, 2, 2, 0, 0, 0, 2, 0, 2, 3, 3, 2, 3, 3, 2, 3, 3, 0, 3, 3, 3, 0, 0, 1, 2, 1, 1, 0, 2, 3, 0, 0, 0, 3, 0, 3, 0, 2, 3, 3, 0, 3, 3, 2, 3, 2, 0, 1, 0, 0, 1, 0, 0, 2, 0, 3, 0, 3, 3, 0, 1, 2, 3, 2, 1, 2, 0, 2, 2, 0, 3, 3, 2, 0, 3, 2, 2, 3, 0, 2, 0, 0, 3, 3, 0, 1]\n"
     ]
    }
   ],
   "source": [
    "al=[]\n",
    "for i in ypred:\n",
    "#     print(i)\n",
    "    al.append(np.argmax(i))\n",
    "print(al)"
   ]
  },
  {
   "cell_type": "code",
   "execution_count": 206,
   "id": "4e1288ee",
   "metadata": {},
   "outputs": [
    {
     "data": {
      "text/plain": [
       "array([[38,  0,  1,  7],\n",
       "       [ 4, 13,  1,  2],\n",
       "       [ 0,  0, 24,  0],\n",
       "       [ 0,  0,  1, 32]], dtype=int64)"
      ]
     },
     "execution_count": 206,
     "metadata": {},
     "output_type": "execute_result"
    }
   ],
   "source": [
    "cm=confusion_matrix(ytest,al)\n",
    "cm"
   ]
  },
  {
   "cell_type": "code",
   "execution_count": 208,
   "id": "51ba914c",
   "metadata": {},
   "outputs": [
    {
     "data": {
      "text/plain": [
       "<Axes: >"
      ]
     },
     "execution_count": 208,
     "metadata": {},
     "output_type": "execute_result"
    },
    {
     "data": {
      "image/png": "[encoded data removed]",
      "text/plain": [
       "<Figure size 640x480 with 2 Axes>"
      ]
     },
     "metadata": {},
     "output_type": "display_data"
    }
   ],
   "source": [
    "sns.heatmap(cm,annot=True,fmt='d')"
   ]
  },
  {
   "cell_type": "code",
   "execution_count": 210,
   "id": "1bd4d645-5842-45db-b3c7-76014dbf2d1f",
   "metadata": {},
   "outputs": [
    {
     "name": "stderr",
     "output_type": "stream",
     "text": [
      "WARNING:absl:You are saving your model as an HDF5 file via `model.save()` or `keras.saving.save_model(model)`. This file format is considered legacy. We recommend using instead the native Keras format, e.g. `model.save('my_model.keras')` or `keras.saving.save_model(model, 'my_model.keras')`. \n"
     ]
    }
   ],
   "source": [
    "#l= model.save(\"lungs99.h5\")"
   ]
  }
 ],
 "metadata": {
  "kernelspec": {
   "display_name": "Python 3 (ipykernel)",
   "language": "python",
   "name": "python3"
  },
  "language_info": {
   "codemirror_mode": {
    "name": "ipython",
    "version": 3
   },
   "file_extension": ".py",
   "mimetype": "text/x-python",
   "name": "python",
   "nbconvert_exporter": "python",
   "pygments_lexer": "ipython3",
   "version": "3.12.4"
  }
 },
 "nbformat": 4,
 "nbformat_minor": 5
}
