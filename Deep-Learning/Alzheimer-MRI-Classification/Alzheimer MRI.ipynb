{
 "cells": [
  {
   "cell_type": "markdown",
   "id": "8e5812b9-fe23-4671-86e3-fd9cf91505dd",
   "metadata": {},
   "source": [
    "# Alzheimer MRI"
   ]
  },
  {
   "cell_type": "code",
   "execution_count": 2,
   "id": "91e317bc",
   "metadata": {},
   "outputs": [],
   "source": [
    "from sklearn.preprocessing import LabelEncoder\n",
    "from sklearn.model_selection import train_test_split\n",
    "from sklearn.metrics import accuracy_score, confusion_matrix, classification_report\n",
    "import warnings\n",
    "warnings.filterwarnings('ignore')\n",
    "import numpy as np\n",
    "import seaborn as sns\n",
    "import matplotlib.pyplot as plt\n",
    "from tensorflow.keras.models import Sequential\n",
    "from tensorflow.keras.layers import Conv2D,MaxPool2D,Dense,Flatten\n",
    "import os\n",
    "import cv2"
   ]
  },
  {
   "cell_type": "code",
   "execution_count": 3,
   "id": "50d05f17",
   "metadata": {},
   "outputs": [
    {
     "name": "stdout",
     "output_type": "stream",
     "text": [
      "(10240, 100, 100, 1)\n",
      "(10240,)\n"
     ]
    }
   ],
   "source": [
    "x,y=[],[]\n",
    "path=r\"D:\\Singularis DL\\dl\\Alzheimer MRI\\train\"\n",
    "for i in os.listdir(path):\n",
    "    for j in os.listdir(os.path.join(path, i)):\n",
    "        image_path = os.path.join(path, i, j)\n",
    "        array = cv2.imread(image_path, cv2.IMREAD_GRAYSCALE)\n",
    "        array_resize = cv2.resize(array, (100, 100))\n",
    "        array_reshape = array_resize.reshape(100, 100, 1)\n",
    "        array_norm = array_reshape / 255\n",
    "        x.append(array_norm)\n",
    "        y.append(i)\n",
    "\n",
    "x = np.array(x)\n",
    "y = np.array(y)\n",
    "print(x.shape)\n",
    "print(y.shape)"
   ]
  },
  {
   "cell_type": "code",
   "execution_count": 4,
   "id": "1f4bf260",
   "metadata": {},
   "outputs": [
    {
     "data": {
      "text/plain": [
       "array(['Mild Impairment', 'Mild Impairment', 'Mild Impairment', ...,\n",
       "       'Very Mild Impairment', 'Very Mild Impairment',\n",
       "       'Very Mild Impairment'], dtype='<U20')"
      ]
     },
     "execution_count": 4,
     "metadata": {},
     "output_type": "execute_result"
    }
   ],
   "source": [
    "y"
   ]
  },
  {
   "cell_type": "code",
   "execution_count": 5,
   "id": "0758e038",
   "metadata": {},
   "outputs": [],
   "source": [
    "le=LabelEncoder()"
   ]
  },
  {
   "cell_type": "code",
   "execution_count": 6,
   "id": "8afe39fd",
   "metadata": {},
   "outputs": [
    {
     "data": {
      "text/plain": [
       "array([0, 0, 0, ..., 3, 3, 3], dtype=int64)"
      ]
     },
     "execution_count": 6,
     "metadata": {},
     "output_type": "execute_result"
    }
   ],
   "source": [
    "y=le.fit_transform(y)\n",
    "y"
   ]
  },
  {
   "cell_type": "code",
   "execution_count": 7,
   "id": "34434430",
   "metadata": {},
   "outputs": [
    {
     "data": {
      "text/plain": [
       "(10240,)"
      ]
     },
     "execution_count": 7,
     "metadata": {},
     "output_type": "execute_result"
    }
   ],
   "source": [
    "y.shape"
   ]
  },
  {
   "cell_type": "code",
   "execution_count": 8,
   "id": "f3914484",
   "metadata": {},
   "outputs": [],
   "source": [
    "xtrain,xtest,ytrain,ytest=train_test_split(x,y,test_size=0.2,random_state=48)"
   ]
  },
  {
   "cell_type": "code",
   "execution_count": 9,
   "id": "d25396da",
   "metadata": {},
   "outputs": [
    {
     "name": "stdout",
     "output_type": "stream",
     "text": [
      "8192 8192\n",
      "2048 2048\n"
     ]
    }
   ],
   "source": [
    "print(len(xtrain),len(ytrain))\n",
    "print(len(xtest),len(ytest))"
   ]
  },
  {
   "cell_type": "code",
   "execution_count": 10,
   "id": "62844e48",
   "metadata": {},
   "outputs": [
    {
     "data": {
      "text/plain": [
       "array([1, 0, 3, ..., 3, 3, 1], dtype=int64)"
      ]
     },
     "execution_count": 10,
     "metadata": {},
     "output_type": "execute_result"
    }
   ],
   "source": [
    "ytest"
   ]
  },
  {
   "cell_type": "code",
   "execution_count": 11,
   "id": "4a225ba9-3cea-4ae5-83bf-987a92679a88",
   "metadata": {},
   "outputs": [],
   "source": [
    "model = Sequential()\n",
    "model.add(Conv2D(32, (3, 3), activation='relu', input_shape=(100, 100, 1)))\n",
    "model.add(MaxPool2D(2, 2)) \n",
    "model.add(Conv2D(64, (3, 3), activation='relu'))\n",
    "model.add(MaxPool2D(2, 2))  \n",
    "model.add(Flatten())\n",
    "model.add(Dense(128, activation='relu'))\n",
    "model.add(Dense(4, activation='softmax'))  "
   ]
  },
  {
   "cell_type": "code",
   "execution_count": 12,
   "id": "bd417cef",
   "metadata": {},
   "outputs": [
    {
     "data": {
      "text/html": [
       "<pre style=\"white-space:pre;overflow-x:auto;line-height:normal;font-family:Menlo,'DejaVu Sans Mono',consolas,'Courier New',monospace\"><span style=\"font-weight: bold\">Model: \"sequential\"</span>\n",
       "</pre>\n"
      ],
      "text/plain": [
       "\u001b[1mModel: \"sequential\"\u001b[0m\n"
      ]
     },
     "metadata": {},
     "output_type": "display_data"
    },
    {
     "data": {
      "text/html": [
       "<pre style=\"white-space:pre;overflow-x:auto;line-height:normal;font-family:Menlo,'DejaVu Sans Mono',consolas,'Courier New',monospace\">┏━━━━━━━━━━━━━━━━━━━━━━━━━━━━━━━━━┳━━━━━━━━━━━━━━━━━━━━━━━━┳━━━━━━━━━━━━━━━┓\n",
       "┃<span style=\"font-weight: bold\"> Layer (type)                    </span>┃<span style=\"font-weight: bold\"> Output Shape           </span>┃<span style=\"font-weight: bold\">       Param # </span>┃\n",
       "┡━━━━━━━━━━━━━━━━━━━━━━━━━━━━━━━━━╇━━━━━━━━━━━━━━━━━━━━━━━━╇━━━━━━━━━━━━━━━┩\n",
       "│ conv2d (<span style=\"color: #0087ff; text-decoration-color: #0087ff\">Conv2D</span>)                 │ (<span style=\"color: #00d7ff; text-decoration-color: #00d7ff\">None</span>, <span style=\"color: #00af00; text-decoration-color: #00af00\">98</span>, <span style=\"color: #00af00; text-decoration-color: #00af00\">98</span>, <span style=\"color: #00af00; text-decoration-color: #00af00\">32</span>)     │           <span style=\"color: #00af00; text-decoration-color: #00af00\">320</span> │\n",
       "├─────────────────────────────────┼────────────────────────┼───────────────┤\n",
       "│ max_pooling2d (<span style=\"color: #0087ff; text-decoration-color: #0087ff\">MaxPooling2D</span>)    │ (<span style=\"color: #00d7ff; text-decoration-color: #00d7ff\">None</span>, <span style=\"color: #00af00; text-decoration-color: #00af00\">49</span>, <span style=\"color: #00af00; text-decoration-color: #00af00\">49</span>, <span style=\"color: #00af00; text-decoration-color: #00af00\">32</span>)     │             <span style=\"color: #00af00; text-decoration-color: #00af00\">0</span> │\n",
       "├─────────────────────────────────┼────────────────────────┼───────────────┤\n",
       "│ conv2d_1 (<span style=\"color: #0087ff; text-decoration-color: #0087ff\">Conv2D</span>)               │ (<span style=\"color: #00d7ff; text-decoration-color: #00d7ff\">None</span>, <span style=\"color: #00af00; text-decoration-color: #00af00\">47</span>, <span style=\"color: #00af00; text-decoration-color: #00af00\">47</span>, <span style=\"color: #00af00; text-decoration-color: #00af00\">64</span>)     │        <span style=\"color: #00af00; text-decoration-color: #00af00\">18,496</span> │\n",
       "├─────────────────────────────────┼────────────────────────┼───────────────┤\n",
       "│ max_pooling2d_1 (<span style=\"color: #0087ff; text-decoration-color: #0087ff\">MaxPooling2D</span>)  │ (<span style=\"color: #00d7ff; text-decoration-color: #00d7ff\">None</span>, <span style=\"color: #00af00; text-decoration-color: #00af00\">23</span>, <span style=\"color: #00af00; text-decoration-color: #00af00\">23</span>, <span style=\"color: #00af00; text-decoration-color: #00af00\">64</span>)     │             <span style=\"color: #00af00; text-decoration-color: #00af00\">0</span> │\n",
       "├─────────────────────────────────┼────────────────────────┼───────────────┤\n",
       "│ flatten (<span style=\"color: #0087ff; text-decoration-color: #0087ff\">Flatten</span>)               │ (<span style=\"color: #00d7ff; text-decoration-color: #00d7ff\">None</span>, <span style=\"color: #00af00; text-decoration-color: #00af00\">33856</span>)          │             <span style=\"color: #00af00; text-decoration-color: #00af00\">0</span> │\n",
       "├─────────────────────────────────┼────────────────────────┼───────────────┤\n",
       "│ dense (<span style=\"color: #0087ff; text-decoration-color: #0087ff\">Dense</span>)                   │ (<span style=\"color: #00d7ff; text-decoration-color: #00d7ff\">None</span>, <span style=\"color: #00af00; text-decoration-color: #00af00\">128</span>)            │     <span style=\"color: #00af00; text-decoration-color: #00af00\">4,333,696</span> │\n",
       "├─────────────────────────────────┼────────────────────────┼───────────────┤\n",
       "│ dense_1 (<span style=\"color: #0087ff; text-decoration-color: #0087ff\">Dense</span>)                 │ (<span style=\"color: #00d7ff; text-decoration-color: #00d7ff\">None</span>, <span style=\"color: #00af00; text-decoration-color: #00af00\">4</span>)              │           <span style=\"color: #00af00; text-decoration-color: #00af00\">516</span> │\n",
       "└─────────────────────────────────┴────────────────────────┴───────────────┘\n",
       "</pre>\n"
      ],
      "text/plain": [
       "┏━━━━━━━━━━━━━━━━━━━━━━━━━━━━━━━━━┳━━━━━━━━━━━━━━━━━━━━━━━━┳━━━━━━━━━━━━━━━┓\n",
       "┃\u001b[1m \u001b[0m\u001b[1mLayer (type)                   \u001b[0m\u001b[1m \u001b[0m┃\u001b[1m \u001b[0m\u001b[1mOutput Shape          \u001b[0m\u001b[1m \u001b[0m┃\u001b[1m \u001b[0m\u001b[1m      Param #\u001b[0m\u001b[1m \u001b[0m┃\n",
       "┡━━━━━━━━━━━━━━━━━━━━━━━━━━━━━━━━━╇━━━━━━━━━━━━━━━━━━━━━━━━╇━━━━━━━━━━━━━━━┩\n",
       "│ conv2d (\u001b[38;5;33mConv2D\u001b[0m)                 │ (\u001b[38;5;45mNone\u001b[0m, \u001b[38;5;34m98\u001b[0m, \u001b[38;5;34m98\u001b[0m, \u001b[38;5;34m32\u001b[0m)     │           \u001b[38;5;34m320\u001b[0m │\n",
       "├─────────────────────────────────┼────────────────────────┼───────────────┤\n",
       "│ max_pooling2d (\u001b[38;5;33mMaxPooling2D\u001b[0m)    │ (\u001b[38;5;45mNone\u001b[0m, \u001b[38;5;34m49\u001b[0m, \u001b[38;5;34m49\u001b[0m, \u001b[38;5;34m32\u001b[0m)     │             \u001b[38;5;34m0\u001b[0m │\n",
       "├─────────────────────────────────┼────────────────────────┼───────────────┤\n",
       "│ conv2d_1 (\u001b[38;5;33mConv2D\u001b[0m)               │ (\u001b[38;5;45mNone\u001b[0m, \u001b[38;5;34m47\u001b[0m, \u001b[38;5;34m47\u001b[0m, \u001b[38;5;34m64\u001b[0m)     │        \u001b[38;5;34m18,496\u001b[0m │\n",
       "├─────────────────────────────────┼────────────────────────┼───────────────┤\n",
       "│ max_pooling2d_1 (\u001b[38;5;33mMaxPooling2D\u001b[0m)  │ (\u001b[38;5;45mNone\u001b[0m, \u001b[38;5;34m23\u001b[0m, \u001b[38;5;34m23\u001b[0m, \u001b[38;5;34m64\u001b[0m)     │             \u001b[38;5;34m0\u001b[0m │\n",
       "├─────────────────────────────────┼────────────────────────┼───────────────┤\n",
       "│ flatten (\u001b[38;5;33mFlatten\u001b[0m)               │ (\u001b[38;5;45mNone\u001b[0m, \u001b[38;5;34m33856\u001b[0m)          │             \u001b[38;5;34m0\u001b[0m │\n",
       "├─────────────────────────────────┼────────────────────────┼───────────────┤\n",
       "│ dense (\u001b[38;5;33mDense\u001b[0m)                   │ (\u001b[38;5;45mNone\u001b[0m, \u001b[38;5;34m128\u001b[0m)            │     \u001b[38;5;34m4,333,696\u001b[0m │\n",
       "├─────────────────────────────────┼────────────────────────┼───────────────┤\n",
       "│ dense_1 (\u001b[38;5;33mDense\u001b[0m)                 │ (\u001b[38;5;45mNone\u001b[0m, \u001b[38;5;34m4\u001b[0m)              │           \u001b[38;5;34m516\u001b[0m │\n",
       "└─────────────────────────────────┴────────────────────────┴───────────────┘\n"
      ]
     },
     "metadata": {},
     "output_type": "display_data"
    },
    {
     "data": {
      "text/html": [
       "<pre style=\"white-space:pre;overflow-x:auto;line-height:normal;font-family:Menlo,'DejaVu Sans Mono',consolas,'Courier New',monospace\"><span style=\"font-weight: bold\"> Total params: </span><span style=\"color: #00af00; text-decoration-color: #00af00\">4,353,028</span> (16.61 MB)\n",
       "</pre>\n"
      ],
      "text/plain": [
       "\u001b[1m Total params: \u001b[0m\u001b[38;5;34m4,353,028\u001b[0m (16.61 MB)\n"
      ]
     },
     "metadata": {},
     "output_type": "display_data"
    },
    {
     "data": {
      "text/html": [
       "<pre style=\"white-space:pre;overflow-x:auto;line-height:normal;font-family:Menlo,'DejaVu Sans Mono',consolas,'Courier New',monospace\"><span style=\"font-weight: bold\"> Trainable params: </span><span style=\"color: #00af00; text-decoration-color: #00af00\">4,353,028</span> (16.61 MB)\n",
       "</pre>\n"
      ],
      "text/plain": [
       "\u001b[1m Trainable params: \u001b[0m\u001b[38;5;34m4,353,028\u001b[0m (16.61 MB)\n"
      ]
     },
     "metadata": {},
     "output_type": "display_data"
    },
    {
     "data": {
      "text/html": [
       "<pre style=\"white-space:pre;overflow-x:auto;line-height:normal;font-family:Menlo,'DejaVu Sans Mono',consolas,'Courier New',monospace\"><span style=\"font-weight: bold\"> Non-trainable params: </span><span style=\"color: #00af00; text-decoration-color: #00af00\">0</span> (0.00 B)\n",
       "</pre>\n"
      ],
      "text/plain": [
       "\u001b[1m Non-trainable params: \u001b[0m\u001b[38;5;34m0\u001b[0m (0.00 B)\n"
      ]
     },
     "metadata": {},
     "output_type": "display_data"
    }
   ],
   "source": [
    "model.summary()"
   ]
  },
  {
   "cell_type": "code",
   "execution_count": 13,
   "id": "33c7d1e1",
   "metadata": {},
   "outputs": [],
   "source": [
    "model.compile(optimizer='adam',loss='sparse_categorical_crossentropy',metrics=['accuracy'])"
   ]
  },
  {
   "cell_type": "code",
   "execution_count": 14,
   "id": "3a1e3e96",
   "metadata": {},
   "outputs": [
    {
     "name": "stdout",
     "output_type": "stream",
     "text": [
      "Epoch 1/10\n",
      "\u001b[1m256/256\u001b[0m \u001b[32m━━━━━━━━━━━━━━━━━━━━\u001b[0m\u001b[37m\u001b[0m \u001b[1m54s\u001b[0m 199ms/step - accuracy: 0.5198 - loss: 1.0578 - val_accuracy: 0.8418 - val_loss: 0.3693\n",
      "Epoch 2/10\n",
      "\u001b[1m256/256\u001b[0m \u001b[32m━━━━━━━━━━━━━━━━━━━━\u001b[0m\u001b[37m\u001b[0m \u001b[1m50s\u001b[0m 196ms/step - accuracy: 0.8670 - loss: 0.3260 - val_accuracy: 0.8452 - val_loss: 0.3227\n",
      "Epoch 3/10\n",
      "\u001b[1m256/256\u001b[0m \u001b[32m━━━━━━━━━━━━━━━━━━━━\u001b[0m\u001b[37m\u001b[0m \u001b[1m56s\u001b[0m 220ms/step - accuracy: 0.9308 - loss: 0.1828 - val_accuracy: 0.9175 - val_loss: 0.2096\n",
      "Epoch 4/10\n",
      "\u001b[1m256/256\u001b[0m \u001b[32m━━━━━━━━━━━━━━━━━━━━\u001b[0m\u001b[37m\u001b[0m \u001b[1m58s\u001b[0m 227ms/step - accuracy: 0.9691 - loss: 0.0929 - val_accuracy: 0.9614 - val_loss: 0.1150\n",
      "Epoch 5/10\n",
      "\u001b[1m256/256\u001b[0m \u001b[32m━━━━━━━━━━━━━━━━━━━━\u001b[0m\u001b[37m\u001b[0m \u001b[1m59s\u001b[0m 229ms/step - accuracy: 0.9918 - loss: 0.0384 - val_accuracy: 0.9634 - val_loss: 0.0992\n",
      "Epoch 6/10\n",
      "\u001b[1m256/256\u001b[0m \u001b[32m━━━━━━━━━━━━━━━━━━━━\u001b[0m\u001b[37m\u001b[0m \u001b[1m58s\u001b[0m 227ms/step - accuracy: 0.9958 - loss: 0.0190 - val_accuracy: 0.9263 - val_loss: 0.2283\n",
      "Epoch 7/10\n",
      "\u001b[1m256/256\u001b[0m \u001b[32m━━━━━━━━━━━━━━━━━━━━\u001b[0m\u001b[37m\u001b[0m \u001b[1m58s\u001b[0m 226ms/step - accuracy: 0.9906 - loss: 0.0332 - val_accuracy: 0.9731 - val_loss: 0.0851\n",
      "Epoch 8/10\n",
      "\u001b[1m256/256\u001b[0m \u001b[32m━━━━━━━━━━━━━━━━━━━━\u001b[0m\u001b[37m\u001b[0m \u001b[1m59s\u001b[0m 229ms/step - accuracy: 0.9987 - loss: 0.0075 - val_accuracy: 0.9658 - val_loss: 0.0965\n",
      "Epoch 9/10\n",
      "\u001b[1m256/256\u001b[0m \u001b[32m━━━━━━━━━━━━━━━━━━━━\u001b[0m\u001b[37m\u001b[0m \u001b[1m58s\u001b[0m 228ms/step - accuracy: 0.9955 - loss: 0.0147 - val_accuracy: 0.9785 - val_loss: 0.0796\n",
      "Epoch 10/10\n",
      "\u001b[1m256/256\u001b[0m \u001b[32m━━━━━━━━━━━━━━━━━━━━\u001b[0m\u001b[37m\u001b[0m \u001b[1m58s\u001b[0m 227ms/step - accuracy: 0.9936 - loss: 0.0193 - val_accuracy: 0.9717 - val_loss: 0.0944\n"
     ]
    },
    {
     "data": {
      "text/plain": [
       "<keras.src.callbacks.history.History at 0x2916b517f80>"
      ]
     },
     "execution_count": 14,
     "metadata": {},
     "output_type": "execute_result"
    }
   ],
   "source": [
    "model.fit(xtrain,ytrain,batch_size=32,epochs=10,validation_data=(xtest,ytest))"
   ]
  },
  {
   "cell_type": "code",
   "execution_count": 72,
   "id": "f2063cfe",
   "metadata": {},
   "outputs": [
    {
     "name": "stdout",
     "output_type": "stream",
     "text": [
      "(1, 100, 100, 1)\n",
      "\u001b[1m1/1\u001b[0m \u001b[32m━━━━━━━━━━━━━━━━━━━━\u001b[0m\u001b[37m\u001b[0m \u001b[1m0s\u001b[0m 26ms/step\n",
      "Prediction: Healthy (No impairment)\n"
     ]
    }
   ],
   "source": [
    "test_path = r\"D:\\Singularis DL\\dl\\Alzheimer MRI\\test\\No Impairment\\1 (35).jpg\"\n",
    "array = cv2.imread(test_path, cv2.IMREAD_GRAYSCALE)\n",
    "array_resize = cv2.resize(array, (100, 100))\n",
    "array_reshape = array_resize.reshape(1, 100, 100, 1)\n",
    "array_norm = array_reshape / 255\n",
    "print(array_norm.shape)\n",
    "\n",
    "a = model.predict(array_norm)\n",
    "a = np.argmax(a)\n",
    "\n",
    "l = [ 'Mild impairment', 'Moderate impairment','No impairment', 'Very mild impairment']\n",
    "\n",
    "if l[a] == 'No impairment':\n",
    "    print(f\"Prediction: Healthy ({l[a]})\")\n",
    "else:\n",
    "    print(f\"Prediction: Alzheimer ({l[a]})\")"
   ]
  },
  {
   "cell_type": "code",
   "execution_count": 80,
   "id": "9213e770",
   "metadata": {},
   "outputs": [
    {
     "name": "stdout",
     "output_type": "stream",
     "text": [
      "(1, 100, 100, 1)\n",
      "\u001b[1m1/1\u001b[0m \u001b[32m━━━━━━━━━━━━━━━━━━━━\u001b[0m\u001b[37m\u001b[0m \u001b[1m0s\u001b[0m 35ms/step\n",
      "Prediction: Alzheimer (Mild impairment)\n"
     ]
    }
   ],
   "source": [
    "test_path = r\"D:\\Singularis DL\\dl\\Alzheimer MRI\\test\\Mild Impairment\\6 (28).jpg\"\n",
    "array = cv2.imread(test_path, cv2.IMREAD_GRAYSCALE)\n",
    "array_resize = cv2.resize(array, (100, 100))\n",
    "array_reshape = array_resize.reshape(1, 100, 100, 1)\n",
    "array_norm = array_reshape / 255\n",
    "print(array_norm.shape)\n",
    "\n",
    "a = model.predict(array_norm)\n",
    "a = np.argmax(a)\n",
    "\n",
    "l = [ 'Mild impairment', 'Moderate impairment','No impairment', 'Very mild impairment']\n",
    "\n",
    "if l[a] == 'No impairment':\n",
    "    print(f\"Prediction: Healthy ({l[a]})\")\n",
    "else:\n",
    "    print(f\"Prediction: Alzheimer ({l[a]})\")"
   ]
  },
  {
   "cell_type": "code",
   "execution_count": 76,
   "id": "f9c7bbc6",
   "metadata": {},
   "outputs": [
    {
     "name": "stdout",
     "output_type": "stream",
     "text": [
      "(1, 100, 100, 1)\n",
      "\u001b[1m1/1\u001b[0m \u001b[32m━━━━━━━━━━━━━━━━━━━━\u001b[0m\u001b[37m\u001b[0m \u001b[1m0s\u001b[0m 31ms/step\n",
      "Prediction: Alzheimer (Very mild impairment)\n"
     ]
    }
   ],
   "source": [
    "test_path = r\"D:\\Singularis DL\\dl\\Alzheimer MRI\\test\\Very Mild Impairment\\2 (54).jpg\"\n",
    "array = cv2.imread(test_path, cv2.IMREAD_GRAYSCALE)\n",
    "array_resize = cv2.resize(array, (100, 100))\n",
    "array_reshape = array_resize.reshape(1, 100, 100, 1)\n",
    "array_norm = array_reshape / 255\n",
    "print(array_norm.shape)\n",
    "\n",
    "a = model.predict(array_norm)\n",
    "a = np.argmax(a)\n",
    "\n",
    "l = [ 'Mild impairment', 'Moderate impairment','No impairment', 'Very mild impairment']\n",
    "\n",
    "if l[a] == 'No impairment':\n",
    "    print(f\"Prediction: Healthy ({l[a]})\")\n",
    "else:\n",
    "    print(f\"Prediction: Alzheimer ({l[a]})\")"
   ]
  },
  {
   "cell_type": "code",
   "execution_count": 78,
   "id": "c65e0bc3",
   "metadata": {},
   "outputs": [
    {
     "name": "stdout",
     "output_type": "stream",
     "text": [
      "(1, 100, 100, 1)\n",
      "\u001b[1m1/1\u001b[0m \u001b[32m━━━━━━━━━━━━━━━━━━━━\u001b[0m\u001b[37m\u001b[0m \u001b[1m0s\u001b[0m 32ms/step\n",
      "Prediction: Alzheimer (Moderate impairment)\n"
     ]
    }
   ],
   "source": [
    "test_path = r\"D:\\Singularis DL\\dl\\Alzheimer MRI\\test\\Moderate Impairment\\19.jpg\"\n",
    "array = cv2.imread(test_path, cv2.IMREAD_GRAYSCALE)\n",
    "array_resize = cv2.resize(array, (100, 100))\n",
    "array_reshape = array_resize.reshape(1, 100, 100, 1)\n",
    "array_norm = array_reshape / 255\n",
    "print(array_norm.shape)\n",
    "\n",
    "a = model.predict(array_norm)\n",
    "a = np.argmax(a)\n",
    "\n",
    "l = [ 'Mild impairment', 'Moderate impairment','No impairment', 'Very mild impairment']\n",
    "\n",
    "if l[a] == 'No impairment':\n",
    "    print(f\"Prediction: Healthy ({l[a]})\")\n",
    "else:\n",
    "    print(f\"Prediction: Alzheimer ({l[a]})\")"
   ]
  },
  {
   "cell_type": "code",
   "execution_count": 19,
   "id": "e64f6898-eca9-4c3c-8784-c78b63dd9b9f",
   "metadata": {},
   "outputs": [
    {
     "name": "stdout",
     "output_type": "stream",
     "text": [
      "(None, 100, 100, 1)\n"
     ]
    }
   ],
   "source": [
    "print(model.input_shape)"
   ]
  },
  {
   "cell_type": "code",
   "execution_count": 20,
   "id": "4c9c3e5b-ac7a-4c66-92f9-2beb8dcaad2c",
   "metadata": {
    "scrolled": true
   },
   "outputs": [
    {
     "name": "stdout",
     "output_type": "stream",
     "text": [
      "\u001b[1m64/64\u001b[0m \u001b[32m━━━━━━━━━━━━━━━━━━━━\u001b[0m\u001b[37m\u001b[0m \u001b[1m4s\u001b[0m 63ms/step\n"
     ]
    },
    {
     "data": {
      "text/plain": [
       "array([[1.5389091e-12, 1.0000000e+00, 1.4087841e-09, 3.0020730e-10],\n",
       "       [9.9999976e-01, 2.6716657e-11, 2.6685160e-07, 1.9038144e-08],\n",
       "       [9.8881479e-11, 3.9505480e-08, 6.9518271e-04, 9.9930477e-01],\n",
       "       ...,\n",
       "       [8.2120283e-07, 4.6319951e-10, 1.1183980e-05, 9.9998796e-01],\n",
       "       [3.2312663e-08, 7.4414551e-08, 2.7217770e-03, 9.9727803e-01],\n",
       "       [1.4130950e-13, 9.9999809e-01, 1.8553269e-06, 5.3242732e-10]],\n",
       "      dtype=float32)"
      ]
     },
     "execution_count": 20,
     "metadata": {},
     "output_type": "execute_result"
    }
   ],
   "source": [
    "ypred = model.predict(xtest)\n",
    "ypred"
   ]
  },
  {
   "cell_type": "code",
   "execution_count": 21,
   "id": "cb1b2344",
   "metadata": {},
   "outputs": [
    {
     "name": "stdout",
     "output_type": "stream",
     "text": [
      "[1, 0, 3, 3, 2, 2, 2, 3, 0, 1, 1, 2, 1, 0, 1, 2, 0, 1, 0, 2, 1, 2, 1, 2, 2, 0, 3, 3, 2, 0, 3, 2, 2, 3, 2, 0, 2, 1, 1, 1, 0, 1, 0, 2, 0, 3, 3, 0, 3, 3, 0, 2, 3, 0, 0, 3, 0, 1, 0, 2, 1, 1, 1, 3, 1, 2, 1, 3, 2, 1, 3, 1, 1, 1, 2, 0, 0, 1, 2, 3, 0, 0, 3, 1, 2, 3, 2, 2, 1, 3, 3, 1, 1, 1, 0, 0, 2, 2, 3, 3, 1, 2, 2, 2, 2, 3, 3, 3, 3, 0, 2, 0, 1, 0, 2, 3, 2, 0, 2, 0, 2, 3, 2, 1, 2, 3, 3, 1, 3, 2, 3, 2, 1, 3, 3, 2, 2, 0, 3, 2, 0, 0, 1, 2, 2, 2, 0, 1, 2, 0, 3, 3, 1, 1, 2, 0, 3, 2, 3, 3, 1, 1, 0, 0, 2, 3, 0, 2, 0, 0, 0, 0, 0, 3, 3, 1, 3, 2, 3, 0, 1, 1, 2, 0, 2, 2, 1, 0, 2, 0, 0, 1, 2, 2, 2, 3, 3, 1, 3, 0, 3, 2, 2, 3, 3, 2, 2, 3, 2, 2, 3, 0, 0, 1, 0, 3, 0, 3, 0, 0, 1, 0, 2, 2, 3, 2, 2, 3, 1, 2, 1, 1, 3, 2, 1, 2, 2, 3, 3, 0, 3, 2, 3, 3, 2, 2, 1, 0, 3, 0, 1, 2, 1, 1, 3, 0, 3, 2, 3, 3, 1, 3, 3, 1, 1, 3, 2, 3, 1, 0, 0, 0, 2, 2, 1, 1, 2, 1, 2, 3, 2, 3, 2, 0, 3, 1, 1, 2, 2, 3, 1, 2, 0, 1, 3, 3, 2, 1, 2, 2, 2, 0, 2, 3, 0, 3, 1, 2, 3, 1, 1, 0, 2, 1, 0, 0, 1, 0, 1, 2, 2, 3, 1, 1, 3, 3, 0, 1, 0, 2, 2, 2, 2, 2, 3, 3, 0, 2, 2, 2, 3, 0, 1, 0, 2, 0, 2, 2, 1, 2, 2, 3, 0, 1, 1, 0, 0, 2, 2, 3, 1, 1, 0, 0, 1, 3, 3, 1, 3, 3, 2, 3, 3, 2, 0, 0, 0, 1, 3, 3, 0, 1, 2, 2, 1, 3, 0, 0, 1, 1, 3, 3, 0, 2, 3, 2, 2, 2, 3, 0, 0, 1, 3, 0, 0, 3, 2, 3, 1, 3, 1, 2, 1, 0, 3, 1, 0, 1, 2, 2, 2, 3, 3, 0, 2, 0, 0, 1, 2, 1, 3, 2, 0, 2, 0, 3, 3, 0, 1, 3, 0, 0, 1, 3, 1, 2, 1, 1, 2, 0, 2, 0, 1, 1, 3, 0, 3, 3, 3, 1, 3, 0, 3, 0, 3, 0, 2, 0, 0, 3, 1, 1, 1, 2, 2, 2, 2, 1, 0, 3, 2, 2, 2, 1, 3, 3, 3, 1, 3, 0, 2, 0, 0, 0, 1, 0, 1, 3, 3, 1, 3, 1, 2, 2, 1, 1, 0, 0, 3, 1, 0, 1, 0, 0, 0, 3, 2, 3, 0, 1, 1, 2, 2, 2, 1, 3, 1, 2, 0, 0, 0, 2, 2, 2, 0, 1, 3, 1, 1, 1, 0, 1, 0, 3, 3, 0, 1, 1, 2, 2, 1, 2, 3, 3, 3, 0, 2, 2, 2, 2, 0, 2, 3, 2, 0, 3, 3, 2, 3, 1, 1, 0, 1, 0, 2, 3, 1, 0, 2, 3, 2, 3, 3, 2, 0, 0, 3, 2, 1, 1, 2, 0, 0, 2, 2, 1, 2, 2, 0, 1, 3, 1, 2, 0, 3, 1, 3, 1, 1, 3, 0, 2, 2, 1, 3, 3, 0, 0, 3, 1, 0, 2, 2, 2, 1, 3, 1, 0, 2, 1, 3, 0, 3, 3, 3, 2, 1, 3, 1, 0, 0, 3, 1, 2, 3, 2, 1, 0, 2, 2, 2, 0, 2, 0, 3, 0, 1, 0, 2, 0, 0, 2, 3, 0, 0, 1, 1, 1, 3, 0, 0, 2, 2, 3, 0, 2, 3, 3, 3, 1, 2, 3, 3, 2, 3, 3, 0, 2, 1, 2, 0, 3, 0, 1, 2, 3, 0, 1, 1, 1, 0, 1, 0, 0, 1, 1, 3, 0, 1, 2, 2, 1, 2, 2, 1, 0, 0, 3, 2, 2, 3, 3, 1, 2, 0, 1, 2, 0, 1, 2, 2, 1, 0, 0, 1, 0, 0, 0, 3, 0, 2, 3, 1, 0, 3, 3, 2, 0, 2, 0, 3, 1, 0, 2, 0, 2, 2, 1, 2, 1, 2, 1, 3, 0, 3, 0, 1, 0, 3, 0, 3, 2, 0, 0, 1, 2, 2, 2, 0, 2, 0, 1, 0, 3, 3, 0, 1, 2, 3, 2, 1, 2, 1, 1, 3, 3, 3, 0, 2, 0, 2, 1, 2, 1, 0, 3, 2, 2, 2, 0, 3, 0, 1, 1, 0, 3, 2, 2, 2, 1, 1, 2, 3, 1, 2, 1, 2, 2, 0, 0, 1, 3, 3, 1, 0, 3, 0, 0, 3, 1, 0, 1, 3, 2, 3, 2, 1, 3, 2, 3, 0, 2, 2, 0, 3, 0, 1, 3, 3, 0, 1, 0, 1, 1, 1, 1, 2, 3, 3, 2, 2, 3, 3, 3, 3, 3, 2, 2, 3, 0, 2, 3, 2, 2, 1, 2, 1, 1, 0, 1, 3, 2, 1, 0, 3, 2, 2, 0, 2, 1, 1, 0, 1, 2, 3, 2, 3, 2, 1, 2, 2, 2, 0, 2, 3, 3, 2, 2, 3, 2, 1, 3, 2, 0, 2, 2, 0, 1, 1, 1, 2, 0, 3, 0, 0, 0, 2, 2, 0, 1, 2, 1, 2, 3, 0, 0, 1, 2, 1, 0, 1, 2, 3, 0, 0, 2, 0, 0, 2, 2, 3, 1, 3, 3, 3, 2, 2, 1, 0, 0, 1, 1, 2, 2, 2, 1, 1, 2, 2, 0, 1, 1, 1, 0, 2, 1, 2, 1, 3, 1, 1, 1, 0, 1, 3, 1, 1, 3, 1, 0, 0, 3, 3, 3, 3, 2, 1, 3, 1, 2, 1, 2, 1, 0, 2, 3, 3, 1, 0, 3, 1, 2, 1, 0, 0, 1, 1, 0, 1, 3, 1, 3, 3, 3, 0, 2, 1, 0, 2, 0, 2, 2, 2, 0, 1, 1, 0, 3, 2, 3, 1, 3, 0, 3, 2, 3, 1, 1, 2, 2, 2, 1, 1, 2, 0, 1, 0, 1, 1, 2, 1, 3, 1, 0, 0, 3, 2, 1, 2, 1, 3, 2, 0, 3, 0, 0, 1, 2, 1, 1, 3, 3, 1, 1, 2, 2, 0, 2, 3, 1, 1, 1, 0, 1, 1, 0, 3, 3, 3, 3, 1, 1, 3, 1, 1, 0, 2, 2, 1, 3, 1, 3, 1, 3, 2, 2, 0, 1, 1, 0, 3, 3, 1, 1, 1, 2, 2, 3, 2, 2, 1, 1, 3, 0, 0, 2, 2, 1, 1, 3, 3, 2, 2, 0, 2, 0, 1, 2, 0, 1, 3, 2, 3, 1, 0, 1, 0, 3, 1, 3, 0, 2, 3, 3, 2, 3, 0, 2, 3, 3, 0, 0, 1, 1, 3, 2, 0, 2, 1, 2, 2, 2, 0, 3, 3, 2, 2, 3, 2, 0, 2, 0, 0, 3, 3, 2, 2, 2, 2, 2, 0, 1, 2, 1, 3, 2, 0, 0, 2, 1, 0, 2, 0, 1, 3, 2, 3, 3, 3, 3, 0, 0, 0, 3, 2, 0, 1, 3, 2, 1, 0, 0, 3, 2, 0, 2, 1, 2, 0, 2, 3, 3, 1, 2, 3, 2, 0, 2, 3, 1, 0, 3, 1, 1, 0, 1, 3, 2, 0, 1, 0, 3, 3, 2, 1, 3, 2, 1, 0, 1, 2, 1, 1, 0, 2, 1, 2, 0, 0, 2, 3, 0, 2, 0, 1, 0, 0, 1, 0, 2, 3, 2, 0, 3, 3, 0, 2, 1, 0, 2, 0, 1, 3, 1, 2, 1, 3, 1, 1, 3, 3, 1, 2, 3, 0, 0, 2, 1, 0, 0, 3, 1, 2, 3, 0, 1, 0, 3, 1, 0, 0, 2, 0, 1, 2, 2, 3, 1, 1, 3, 0, 3, 0, 2, 2, 0, 0, 0, 3, 0, 3, 0, 3, 3, 1, 2, 3, 0, 2, 2, 0, 1, 2, 0, 3, 2, 1, 1, 0, 2, 3, 0, 1, 0, 0, 1, 0, 2, 2, 0, 1, 2, 0, 2, 0, 2, 3, 0, 2, 2, 0, 2, 0, 0, 3, 0, 1, 0, 2, 2, 3, 1, 2, 0, 2, 1, 2, 3, 1, 1, 3, 2, 0, 2, 3, 2, 2, 0, 0, 3, 1, 0, 2, 1, 2, 0, 2, 3, 3, 0, 0, 2, 1, 3, 3, 0, 2, 2, 2, 0, 3, 2, 3, 1, 0, 1, 2, 3, 0, 1, 1, 2, 1, 2, 3, 1, 3, 1, 1, 3, 1, 3, 1, 1, 1, 2, 3, 1, 2, 1, 0, 1, 1, 2, 2, 2, 2, 1, 0, 0, 1, 3, 3, 1, 2, 0, 2, 2, 2, 3, 2, 2, 2, 0, 0, 3, 3, 1, 3, 3, 1, 0, 2, 3, 3, 3, 0, 1, 2, 1, 0, 3, 3, 0, 0, 2, 1, 1, 2, 0, 1, 1, 0, 1, 3, 1, 2, 0, 0, 3, 2, 2, 0, 3, 2, 1, 1, 3, 3, 2, 3, 0, 0, 3, 3, 1, 2, 3, 0, 3, 0, 3, 0, 1, 0, 0, 1, 1, 2, 1, 3, 2, 2, 0, 3, 3, 0, 3, 0, 1, 3, 2, 3, 1, 0, 3, 0, 0, 2, 3, 2, 0, 1, 0, 3, 3, 2, 0, 1, 2, 3, 2, 3, 2, 0, 0, 3, 2, 1, 1, 3, 0, 0, 1, 0, 1, 3, 2, 2, 3, 0, 0, 0, 3, 3, 2, 3, 1, 2, 0, 0, 3, 1, 3, 0, 3, 1, 0, 1, 3, 3, 1, 1, 2, 0, 0, 2, 1, 1, 1, 3, 2, 2, 1, 2, 2, 0, 3, 1, 2, 0, 0, 3, 3, 0, 2, 2, 2, 2, 1, 0, 0, 1, 1, 2, 1, 1, 2, 1, 2, 0, 2, 1, 2, 0, 0, 1, 0, 0, 3, 1, 1, 1, 3, 0, 0, 1, 1, 2, 0, 0, 3, 0, 0, 1, 3, 2, 3, 2, 1, 0, 3, 1, 3, 3, 1, 0, 2, 1, 2, 0, 0, 1, 2, 3, 2, 1, 0, 2, 1, 0, 0, 3, 0, 2, 3, 2, 2, 1, 3, 2, 2, 1, 0, 2, 2, 1, 1, 2, 1, 0, 0, 1, 0, 1, 0, 3, 0, 3, 3, 3, 1, 3, 1, 3, 0, 1, 3, 1, 2, 0, 1, 3, 1, 2, 3, 3, 2, 3, 2, 3, 2, 2, 3, 1, 1, 0, 3, 2, 2, 2, 0, 1, 0, 1, 0, 3, 3, 1, 2, 2, 3, 1, 0, 1, 1, 3, 3, 3, 2, 3, 3, 1, 1, 3, 1, 0, 0, 2, 3, 3, 3, 2, 2, 3, 2, 0, 2, 3, 3, 0, 2, 0, 1, 2, 2, 1, 1, 2, 0, 3, 2, 0, 2, 3, 2, 0, 1, 3, 3, 3, 3, 1, 0, 2, 0, 1, 1, 0, 1, 2, 0, 3, 2, 2, 2, 0, 3, 2, 2, 3, 3, 0, 2, 1, 3, 3, 2, 2, 0, 1, 3, 3, 2, 1, 3, 1, 1, 2, 2, 0, 0, 1, 3, 2, 1, 0, 3, 2, 2, 3, 2, 1, 0, 3, 3, 2, 2, 2, 0, 1, 3, 0, 2, 3, 0, 1, 3, 2, 3, 1, 1, 2, 0, 3, 1, 2, 2, 1, 2, 0, 0, 1, 2, 2, 0, 0, 0, 0, 0, 1, 1, 3, 3, 0, 0, 0, 1, 0, 2, 0, 2, 2, 3, 0, 0, 3, 2, 2, 2, 0, 2, 3, 1, 0, 2, 0, 2, 2, 3, 1, 2, 0, 3, 0, 3, 0, 3, 2, 0, 3, 1, 0, 1, 0, 0, 2, 2, 3, 3, 2, 2, 0, 2, 0, 3, 1, 1, 1, 2, 1, 2, 2, 2, 1, 3, 0, 1, 2, 1, 2, 2, 3, 0, 3, 2, 2, 3, 3, 1, 3, 1, 2, 0, 3, 0, 1, 1, 1, 1, 0, 0, 0, 3, 0, 0, 1, 1, 1, 3, 2, 1, 2, 2, 2, 3, 3, 1]\n"
     ]
    }
   ],
   "source": [
    "al=[]\n",
    "for i in ypred:\n",
    "    al.append(np.argmax(i))\n",
    "print(al)"
   ]
  },
  {
   "cell_type": "code",
   "execution_count": 22,
   "id": "c3e3274b-c864-4755-8f9f-0f592b2ec9e7",
   "metadata": {},
   "outputs": [
    {
     "name": "stdout",
     "output_type": "stream",
     "text": [
      "Confusion Matrix:\n",
      " [[495   0   4   7]\n",
      " [  0 498   0   0]\n",
      " [  1   0 521   9]\n",
      " [  1   0  36 476]]\n"
     ]
    },
    {
     "data": {
      "text/plain": [
       "<Axes: >"
      ]
     },
     "execution_count": 22,
     "metadata": {},
     "output_type": "execute_result"
    },
    {
     "data": {
      "image/png": "[encoded data removed]",
      "text/plain": [
       "<Figure size 640x480 with 2 Axes>"
      ]
     },
     "metadata": {},
     "output_type": "display_data"
    }
   ],
   "source": [
    "# Confusion Matrix\n",
    "cm = confusion_matrix(ytest, al)\n",
    "print(\"Confusion Matrix:\\n\", cm)\n",
    "sns.heatmap(cm, annot=True, fmt='d',cmap='Reds')"
   ]
  },
  {
   "cell_type": "code",
   "execution_count": 23,
   "id": "c91dbb2e-5688-477a-b17a-13a08748a5d7",
   "metadata": {},
   "outputs": [
    {
     "name": "stdout",
     "output_type": "stream",
     "text": [
      "Accuracy: 0.9717\n"
     ]
    }
   ],
   "source": [
    "# Accuracy\n",
    "accuracy = accuracy_score(ytest, al)\n",
    "print(f\"Accuracy: {accuracy:.4f}\")"
   ]
  },
  {
   "cell_type": "code",
   "execution_count": 84,
   "id": "75157617-162f-4024-b4b3-5181a4d122fd",
   "metadata": {},
   "outputs": [
    {
     "name": "stdout",
     "output_type": "stream",
     "text": [
      "Classification Report:\n",
      "                       precision    recall  f1-score   support\n",
      "\n",
      "     Mild impairment       1.00      0.98      0.99       506\n",
      " Moderate impairment       1.00      1.00      1.00       498\n",
      "       No impairment       0.93      0.98      0.95       531\n",
      "Very mild impairment       0.97      0.93      0.95       513\n",
      "\n",
      "            accuracy                           0.97      2048\n",
      "           macro avg       0.97      0.97      0.97      2048\n",
      "        weighted avg       0.97      0.97      0.97      2048\n",
      "\n"
     ]
    }
   ],
   "source": [
    "# Classification Report\n",
    "report = classification_report(ytest, al, target_names= [ 'Mild impairment', 'Moderate impairment','No impairment', 'Very mild impairment'])\n",
    "print(\"Classification Report:\\n\", report)"
   ]
  },
  {
   "cell_type": "code",
   "execution_count": 86,
   "id": "1bd4d645-5842-45db-b3c7-76014dbf2d1f",
   "metadata": {},
   "outputs": [
    {
     "name": "stderr",
     "output_type": "stream",
     "text": [
      "WARNING:absl:You are saving your model as an HDF5 file via `model.save()` or `keras.saving.save_model(model)`. This file format is considered legacy. We recommend using instead the native Keras format, e.g. `model.save('my_model.keras')` or `keras.saving.save_model(model, 'my_model.keras')`. \n"
     ]
    }
   ],
   "source": [
    "#a= model.save(\"Alzheimer99.h5\")"
   ]
  }
 ],
 "metadata": {
  "kernelspec": {
   "display_name": "Python 3 (ipykernel)",
   "language": "python",
   "name": "python3"
  },
  "language_info": {
   "codemirror_mode": {
    "name": "ipython",
    "version": 3
   },
   "file_extension": ".py",
   "mimetype": "text/x-python",
   "name": "python",
   "nbconvert_exporter": "python",
   "pygments_lexer": "ipython3",
   "version": "3.12.4"
  }
 },
 "nbformat": 4,
 "nbformat_minor": 5
}
